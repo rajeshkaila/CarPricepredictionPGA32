{
 "cells": [
  {
   "cell_type": "code",
   "execution_count": 1,
   "id": "f6f2a03c",
   "metadata": {},
   "outputs": [],
   "source": [
    "import pandas as pd\n",
    "import numpy as np\n",
    "import matplotlib.pyplot as plt\n",
    "%matplotlib inline"
   ]
  },
  {
   "cell_type": "code",
   "execution_count": 2,
   "id": "2d4f53cb",
   "metadata": {},
   "outputs": [
    {
     "name": "stdout",
     "output_type": "stream",
     "text": [
      "/Users/rajeshprabhakarkaila/Desktop/Datasets\n"
     ]
    }
   ],
   "source": [
    "#set up working directory\n",
    "import io\n",
    "%cd '/Users/rajeshprabhakarkaila/Desktop/Datasets'"
   ]
  },
  {
   "cell_type": "code",
   "execution_count": 3,
   "id": "db02c6b4",
   "metadata": {},
   "outputs": [],
   "source": [
    "carsales=pd.read_csv(\"Car details v3 copy.csv\")"
   ]
  },
  {
   "cell_type": "code",
   "execution_count": 4,
   "id": "382e9a55",
   "metadata": {},
   "outputs": [
    {
     "name": "stdout",
     "output_type": "stream",
     "text": [
      "<class 'pandas.core.frame.DataFrame'>\n",
      "RangeIndex: 8128 entries, 0 to 8127\n",
      "Data columns (total 13 columns):\n",
      " #   Column         Non-Null Count  Dtype  \n",
      "---  ------         --------------  -----  \n",
      " 0   name           8128 non-null   object \n",
      " 1   year           8128 non-null   int64  \n",
      " 2   selling_price  8128 non-null   int64  \n",
      " 3   km_driven      8128 non-null   int64  \n",
      " 4   fuel           8128 non-null   object \n",
      " 5   seller_type    8128 non-null   object \n",
      " 6   transmission   8128 non-null   object \n",
      " 7   owner          8128 non-null   object \n",
      " 8   mileage        7907 non-null   object \n",
      " 9   engine         7907 non-null   object \n",
      " 10  max_power      7913 non-null   object \n",
      " 11  torque         7906 non-null   object \n",
      " 12  seats          7907 non-null   float64\n",
      "dtypes: float64(1), int64(3), object(9)\n",
      "memory usage: 825.6+ KB\n"
     ]
    }
   ],
   "source": [
    "carsales.info()"
   ]
  },
  {
   "cell_type": "code",
   "execution_count": 5,
   "id": "11a9fc64",
   "metadata": {},
   "outputs": [
    {
     "data": {
      "text/html": [
       "<div>\n",
       "<style scoped>\n",
       "    .dataframe tbody tr th:only-of-type {\n",
       "        vertical-align: middle;\n",
       "    }\n",
       "\n",
       "    .dataframe tbody tr th {\n",
       "        vertical-align: top;\n",
       "    }\n",
       "\n",
       "    .dataframe thead th {\n",
       "        text-align: right;\n",
       "    }\n",
       "</style>\n",
       "<table border=\"1\" class=\"dataframe\">\n",
       "  <thead>\n",
       "    <tr style=\"text-align: right;\">\n",
       "      <th></th>\n",
       "      <th>name</th>\n",
       "      <th>year</th>\n",
       "      <th>selling_price</th>\n",
       "      <th>km_driven</th>\n",
       "      <th>fuel</th>\n",
       "      <th>seller_type</th>\n",
       "      <th>transmission</th>\n",
       "      <th>owner</th>\n",
       "      <th>mileage</th>\n",
       "      <th>engine</th>\n",
       "      <th>max_power</th>\n",
       "      <th>torque</th>\n",
       "      <th>seats</th>\n",
       "    </tr>\n",
       "  </thead>\n",
       "  <tbody>\n",
       "    <tr>\n",
       "      <th>0</th>\n",
       "      <td>Maruti Swift Dzire VDI</td>\n",
       "      <td>2014</td>\n",
       "      <td>450000</td>\n",
       "      <td>145500</td>\n",
       "      <td>Diesel</td>\n",
       "      <td>Individual</td>\n",
       "      <td>Manual</td>\n",
       "      <td>First Owner</td>\n",
       "      <td>23.4 kmpl</td>\n",
       "      <td>1248 CC</td>\n",
       "      <td>74 bhp</td>\n",
       "      <td>190Nm@ 2000rpm</td>\n",
       "      <td>5.0</td>\n",
       "    </tr>\n",
       "    <tr>\n",
       "      <th>1</th>\n",
       "      <td>Skoda Rapid 1.5 TDI Ambition</td>\n",
       "      <td>2014</td>\n",
       "      <td>370000</td>\n",
       "      <td>120000</td>\n",
       "      <td>Diesel</td>\n",
       "      <td>Individual</td>\n",
       "      <td>Manual</td>\n",
       "      <td>Second Owner</td>\n",
       "      <td>21.14 kmpl</td>\n",
       "      <td>1498 CC</td>\n",
       "      <td>103.52 bhp</td>\n",
       "      <td>250Nm@ 1500-2500rpm</td>\n",
       "      <td>5.0</td>\n",
       "    </tr>\n",
       "    <tr>\n",
       "      <th>2</th>\n",
       "      <td>Honda City 2017-2020 EXi</td>\n",
       "      <td>2006</td>\n",
       "      <td>158000</td>\n",
       "      <td>140000</td>\n",
       "      <td>Petrol</td>\n",
       "      <td>Individual</td>\n",
       "      <td>Manual</td>\n",
       "      <td>Third Owner</td>\n",
       "      <td>17.7 kmpl</td>\n",
       "      <td>1497 CC</td>\n",
       "      <td>78 bhp</td>\n",
       "      <td>12.7@ 2,700(kgm@ rpm)</td>\n",
       "      <td>5.0</td>\n",
       "    </tr>\n",
       "    <tr>\n",
       "      <th>3</th>\n",
       "      <td>Hyundai i20 Sportz Diesel</td>\n",
       "      <td>2010</td>\n",
       "      <td>225000</td>\n",
       "      <td>127000</td>\n",
       "      <td>Diesel</td>\n",
       "      <td>Individual</td>\n",
       "      <td>Manual</td>\n",
       "      <td>First Owner</td>\n",
       "      <td>23.0 kmpl</td>\n",
       "      <td>1396 CC</td>\n",
       "      <td>90 bhp</td>\n",
       "      <td>22.4 kgm at 1750-2750rpm</td>\n",
       "      <td>5.0</td>\n",
       "    </tr>\n",
       "    <tr>\n",
       "      <th>4</th>\n",
       "      <td>Maruti Swift VXI BSIII</td>\n",
       "      <td>2007</td>\n",
       "      <td>130000</td>\n",
       "      <td>120000</td>\n",
       "      <td>Petrol</td>\n",
       "      <td>Individual</td>\n",
       "      <td>Manual</td>\n",
       "      <td>First Owner</td>\n",
       "      <td>16.1 kmpl</td>\n",
       "      <td>1298 CC</td>\n",
       "      <td>88.2 bhp</td>\n",
       "      <td>11.5@ 4,500(kgm@ rpm)</td>\n",
       "      <td>5.0</td>\n",
       "    </tr>\n",
       "  </tbody>\n",
       "</table>\n",
       "</div>"
      ],
      "text/plain": [
       "                           name  year  selling_price  km_driven    fuel  \\\n",
       "0        Maruti Swift Dzire VDI  2014         450000     145500  Diesel   \n",
       "1  Skoda Rapid 1.5 TDI Ambition  2014         370000     120000  Diesel   \n",
       "2      Honda City 2017-2020 EXi  2006         158000     140000  Petrol   \n",
       "3     Hyundai i20 Sportz Diesel  2010         225000     127000  Diesel   \n",
       "4        Maruti Swift VXI BSIII  2007         130000     120000  Petrol   \n",
       "\n",
       "  seller_type transmission         owner     mileage   engine   max_power  \\\n",
       "0  Individual       Manual   First Owner   23.4 kmpl  1248 CC      74 bhp   \n",
       "1  Individual       Manual  Second Owner  21.14 kmpl  1498 CC  103.52 bhp   \n",
       "2  Individual       Manual   Third Owner   17.7 kmpl  1497 CC      78 bhp   \n",
       "3  Individual       Manual   First Owner   23.0 kmpl  1396 CC      90 bhp   \n",
       "4  Individual       Manual   First Owner   16.1 kmpl  1298 CC    88.2 bhp   \n",
       "\n",
       "                     torque  seats  \n",
       "0            190Nm@ 2000rpm    5.0  \n",
       "1       250Nm@ 1500-2500rpm    5.0  \n",
       "2     12.7@ 2,700(kgm@ rpm)    5.0  \n",
       "3  22.4 kgm at 1750-2750rpm    5.0  \n",
       "4     11.5@ 4,500(kgm@ rpm)    5.0  "
      ]
     },
     "execution_count": 5,
     "metadata": {},
     "output_type": "execute_result"
    }
   ],
   "source": [
    "carsales.head(5)"
   ]
  },
  {
   "cell_type": "code",
   "execution_count": 6,
   "id": "2b077156",
   "metadata": {},
   "outputs": [],
   "source": [
    "# Dependent Variable - selling_price\n",
    "# Research Objective - Build a model that predicts price of a car when data is input"
   ]
  },
  {
   "cell_type": "code",
   "execution_count": 7,
   "id": "7254cf39",
   "metadata": {},
   "outputs": [
    {
     "data": {
      "text/plain": [
       "0        74 bhp\n",
       "1    103.52 bhp\n",
       "2        78 bhp\n",
       "3        90 bhp\n",
       "4      88.2 bhp\n",
       "Name: max_power, dtype: object"
      ]
     },
     "execution_count": 7,
     "metadata": {},
     "output_type": "execute_result"
    }
   ],
   "source": [
    "carsales.max_power.head()"
   ]
  },
  {
   "cell_type": "code",
   "execution_count": 8,
   "id": "13e27171",
   "metadata": {},
   "outputs": [],
   "source": [
    "# pandas replace() - first pattern to be replaced and second replacement\n",
    "carsales.mileage=carsales.mileage.str.replace(\" kmpl\",\"\")"
   ]
  },
  {
   "cell_type": "code",
   "execution_count": 9,
   "id": "3b6d465d",
   "metadata": {},
   "outputs": [],
   "source": [
    "carsales.engine=carsales.engine.str.replace(\"CC\",\"\")"
   ]
  },
  {
   "cell_type": "code",
   "execution_count": 10,
   "id": "54c22b6d",
   "metadata": {},
   "outputs": [],
   "source": [
    "carsales.max_power=carsales.max_power.str.replace(\"bhp\",\"\")"
   ]
  },
  {
   "cell_type": "code",
   "execution_count": 11,
   "id": "71289886",
   "metadata": {},
   "outputs": [],
   "source": [
    "carsales.mileage=carsales.mileage.str.replace(\"km/kg\",\"\")"
   ]
  },
  {
   "cell_type": "code",
   "execution_count": 12,
   "id": "1e5f6c64",
   "metadata": {},
   "outputs": [],
   "source": [
    "carsales.mileage=carsales.mileage.astype(float)"
   ]
  },
  {
   "cell_type": "code",
   "execution_count": 13,
   "id": "76799660",
   "metadata": {},
   "outputs": [
    {
     "data": {
      "text/plain": [
       "max_power\n",
       "74          377\n",
       "81.80       220\n",
       "88.5        204\n",
       "67          165\n",
       "46.3        162\n",
       "67.1        151\n",
       "88.7        148\n",
       "67.04       145\n",
       "70          141\n",
       "62.1        141\n",
       "47.3        141\n",
       "88.73       132\n",
       "120         131\n",
       "81.86       131\n",
       "140         128\n",
       "68          127\n",
       "73.9        124\n",
       "88.76       124\n",
       "55.2        121\n",
       "98.6        118\n",
       "67.05       117\n",
       "190         110\n",
       "75          108\n",
       "82          108\n",
       "63          100\n",
       "81.83        97\n",
       "37           92\n",
       "100          90\n",
       "100.6        87\n",
       "78.9         85\n",
       "102          84\n",
       "90           82\n",
       "69           77\n",
       "126.2        75\n",
       "68.05        74\n",
       "85.8         71\n",
       "88.8         70\n",
       "74.02        66\n",
       "177          65\n",
       "126.32       65\n",
       "53.3         64\n",
       "84           63\n",
       "73.97        61\n",
       "83.8         58\n",
       "108.5        57\n",
       "138.1        55\n",
       "86.8         51\n",
       "98.96        49\n",
       "103.6        48\n",
       "117.3        47\n",
       "108.45       46\n",
       "147.94       45\n",
       "80           45\n",
       "83.1         45\n",
       "121.3        44\n",
       "103.5        43\n",
       "62           43\n",
       "71           43\n",
       "110          41\n",
       "73           38\n",
       "99           38\n",
       "214.56       34\n",
       "93.7         34\n",
       "157.7        33\n",
       "150          32\n",
       "98.59        32\n",
       "73.94        31\n",
       "69.01        31\n",
       "170          30\n",
       "103.2        29\n",
       "78           29\n",
       "83.14        28\n",
       "138.03       28\n",
       "105          27\n",
       "60           27\n",
       "65           26\n",
       "57.6         25\n",
       "112          25\n",
       "118          24\n",
       "85.80        23\n",
       "77           23\n",
       "35           22\n",
       "91.1         22\n",
       "34.2         21\n",
       "153.86       21\n",
       "82.85        21\n",
       "84.8         21\n",
       "147.8        20\n",
       "79.4         20\n",
       "168.5        20\n",
       "171.5        19\n",
       "147.9        19\n",
       "64           18\n",
       "88.50        18\n",
       "66.1         18\n",
       "94           17\n",
       "187.74       17\n",
       "95           17\n",
       "116.3        17\n",
       "98.63        16\n",
       "64.1         16\n",
       "115          16\n",
       "85           15\n",
       "86.7         15\n",
       "72.4         15\n",
       "61.7         15\n",
       "117.6        14\n",
       "184          14\n",
       "108.6        14\n",
       "138          14\n",
       "126.3        14\n",
       "141          14\n",
       "174.5        13\n",
       "152.87       13\n",
       "103.52       13\n",
       "121          13\n",
       "58.16        13\n",
       "53.64        12\n",
       "73.8         12\n",
       "53.5         12\n",
       "52.8         12\n",
       "82.4         12\n",
       "56.3         11\n",
       "63.1         11\n",
       "67.06        11\n",
       "37.48        11\n",
       "130          11\n",
       "68.1         11\n",
       "94.93        11\n",
       "83.83        11\n",
       "108.62       11\n",
       "105.5        11\n",
       "58.2         11\n",
       "104.68       10\n",
       "73.74        10\n",
       "110.4        10\n",
       "91.7         10\n",
       "171          10\n",
       "76           10\n",
       "87.2         10\n",
       "97.7         10\n",
       "88.2          9\n",
       "99.6          9\n",
       "163.7         9\n",
       "83            9\n",
       "123.7         9\n",
       "174.33        9\n",
       "97.9          9\n",
       "241.4         9\n",
       "89.84         8\n",
       "72            8\n",
       "66            8\n",
       "113.42        8\n",
       "76.9          8\n",
       "181           8\n",
       "103.3         8\n",
       "76.8          8\n",
       "147.51        7\n",
       "188           7\n",
       "125           7\n",
       "88            7\n",
       "204           7\n",
       "73.75         7\n",
       "108.495       7\n",
       "83.81         7\n",
       "94.68         7\n",
       "63.12         6\n",
       "57.5          6\n",
       "261.4         6\n",
       "116.6         6\n",
       "118.35        6\n",
       "74.96         6\n",
       "147.5         6\n",
       "103.25        6\n",
       "280           6\n",
       "47            6\n",
       "65.3          6\n",
       "37.5          6\n",
       "0             6\n",
       "83.11         6\n",
       "92            6\n",
       "100.57        5\n",
       "175.56        5\n",
       "160           5\n",
       "136           5\n",
       "194.3         5\n",
       "91.72         5\n",
       "89.75         5\n",
       "197           5\n",
       "148           5\n",
       "121.36        5\n",
       "148.31        4\n",
       "121.4         4\n",
       "71.01         4\n",
       "270.9         4\n",
       "158.8         4\n",
       "74.9          4\n",
       "177.6         4\n",
       "127           4\n",
       "53            4\n",
       "178           4\n",
       "187.7         4\n",
       "113.4         4\n",
       "187.4         4\n",
       "99.23         4\n",
       "118.3         4\n",
       "183           4\n",
       "235           3\n",
       "64.4          3\n",
       "198.25        3\n",
       "100.5         3\n",
       "254.8         3\n",
       "40.3          3\n",
       "165           3\n",
       "143           3\n",
       "139.01        3\n",
       "104.55        3\n",
       "116.4         3\n",
       "52            3\n",
       "45            3\n",
       "102.5         3\n",
       "58            3\n",
       "68.07         3\n",
       "218           3\n",
       "84.48         3\n",
       "122.4         3\n",
       "254.79        3\n",
       "32.8          2\n",
       "35.5          2\n",
       "134.10        2\n",
       "152           2\n",
       "106           2\n",
       "91.2          2\n",
       "101           2\n",
       "189           2\n",
       "105.3         2\n",
       "82.9          2\n",
       "53.26         2\n",
       "98.97         2\n",
       "66.6          2\n",
       "38            2\n",
       "142           2\n",
       "132           2\n",
       "174.57        2\n",
       "64.08         2\n",
       "194.4         2\n",
       "177.5         2\n",
       "167.67        2\n",
       "48.21         2\n",
       "258           2\n",
       "103           2\n",
       "164.7         2\n",
       "160.77        2\n",
       "120.69        2\n",
       "121.31        2\n",
       "181.04        2\n",
       "82.5          2\n",
       "123.37        2\n",
       "80.8          2\n",
       "241           2\n",
       "93.87         2\n",
       "177.46        2\n",
       "120.7         2\n",
       "38.4          2\n",
       "78.8          2\n",
       "126.24        2\n",
       "158           2\n",
       "110.5         1\n",
       "168.7         1\n",
       "144           1\n",
       "203           1\n",
       "201.1         1\n",
       "              1\n",
       "149.5         1\n",
       "197.2         1\n",
       "103.26        1\n",
       "104.5         1\n",
       "139.46        1\n",
       "161           1\n",
       "134           1\n",
       "60.2          1\n",
       "170.30        1\n",
       "98.79         1\n",
       "194           1\n",
       "80.9          1\n",
       "167.62        1\n",
       "58.3          1\n",
       "272           1\n",
       "141.1         1\n",
       "86.79         1\n",
       "170.63        1\n",
       "68.4          1\n",
       "189.3         1\n",
       "169           1\n",
       "162           1\n",
       "156           1\n",
       "400           1\n",
       "282           1\n",
       "104           1\n",
       "155           1\n",
       "167.6         1\n",
       "112.2         1\n",
       "116.9         1\n",
       "198.5         1\n",
       "179.5         1\n",
       "138.08        1\n",
       "92.7          1\n",
       "58.33         1\n",
       "55.23         1\n",
       "265           1\n",
       "157.75        1\n",
       "186           1\n",
       "224           1\n",
       "64.9          1\n",
       "86            1\n",
       "98.82         1\n",
       "163.2         1\n",
       "203.2         1\n",
       "175           1\n",
       "57            1\n",
       "80.84         1\n",
       "135.1         1\n",
       "Name: count, dtype: int64"
      ]
     },
     "execution_count": 13,
     "metadata": {},
     "output_type": "execute_result"
    }
   ],
   "source": [
    "pd.set_option(\"display.max_rows\",322)\n",
    "carsales.max_power.value_counts()"
   ]
  },
  {
   "cell_type": "code",
   "execution_count": 14,
   "id": "01e019e4",
   "metadata": {},
   "outputs": [],
   "source": [
    "carsales['companyname']=carsales.name.str.split().str[0]"
   ]
  },
  {
   "cell_type": "code",
   "execution_count": 15,
   "id": "0967b029",
   "metadata": {},
   "outputs": [
    {
     "data": {
      "text/plain": [
       "companyname\n",
       "Maruti           2448\n",
       "Hyundai          1415\n",
       "Mahindra          772\n",
       "Tata              734\n",
       "Toyota            488\n",
       "Honda             467\n",
       "Ford              397\n",
       "Chevrolet         230\n",
       "Renault           228\n",
       "Volkswagen        186\n",
       "BMW               120\n",
       "Skoda             105\n",
       "Nissan             81\n",
       "Jaguar             71\n",
       "Volvo              67\n",
       "Datsun             65\n",
       "Mercedes-Benz      54\n",
       "Fiat               47\n",
       "Audi               40\n",
       "Lexus              34\n",
       "Jeep               31\n",
       "Mitsubishi         14\n",
       "Force               6\n",
       "Land                6\n",
       "Isuzu               5\n",
       "Kia                 4\n",
       "Ambassador          4\n",
       "Daewoo              3\n",
       "MG                  3\n",
       "Ashok               1\n",
       "Opel                1\n",
       "Peugeot             1\n",
       "Name: count, dtype: int64"
      ]
     },
     "execution_count": 15,
     "metadata": {},
     "output_type": "execute_result"
    }
   ],
   "source": [
    "carsales.companyname.value_counts(dropna=False)"
   ]
  },
  {
   "cell_type": "code",
   "execution_count": 16,
   "id": "ce52fc66",
   "metadata": {},
   "outputs": [],
   "source": [
    "carsales['torq']=carsales.torque.str.extract('(\\d+(rpm))')[0]"
   ]
  },
  {
   "cell_type": "code",
   "execution_count": 17,
   "id": "6495081f",
   "metadata": {},
   "outputs": [],
   "source": [
    "carsales.torq=carsales.torq.str.replace('rpm',\"\")"
   ]
  },
  {
   "cell_type": "code",
   "execution_count": 18,
   "id": "4af17a2c",
   "metadata": {},
   "outputs": [
    {
     "data": {
      "text/plain": [
       "0    2000\n",
       "1    2500\n",
       "2     NaN\n",
       "3    2750\n",
       "4     NaN\n",
       "Name: torq, dtype: object"
      ]
     },
     "execution_count": 18,
     "metadata": {},
     "output_type": "execute_result"
    }
   ],
   "source": [
    "carsales.torq.head()"
   ]
  },
  {
   "cell_type": "code",
   "execution_count": 19,
   "id": "3ee3f0b1",
   "metadata": {},
   "outputs": [
    {
     "data": {
      "text/plain": [
       "Index(['name', 'year', 'selling_price', 'km_driven', 'fuel', 'seller_type',\n",
       "       'transmission', 'owner', 'mileage', 'engine', 'max_power', 'torque',\n",
       "       'seats', 'companyname', 'torq'],\n",
       "      dtype='object')"
      ]
     },
     "execution_count": 19,
     "metadata": {},
     "output_type": "execute_result"
    }
   ],
   "source": [
    "carsales.columns"
   ]
  },
  {
   "cell_type": "code",
   "execution_count": 20,
   "id": "f6eea146",
   "metadata": {},
   "outputs": [],
   "source": [
    "carsales.engine=pd.to_numeric(carsales.engine,errors=\"coerce\")\n",
    "# pd.to_numeric() - brute force conversion\n",
    "# errors = coerce  wherever number is not understood, impute with NA or missingvalue"
   ]
  },
  {
   "cell_type": "code",
   "execution_count": 21,
   "id": "f043ed63",
   "metadata": {},
   "outputs": [],
   "source": [
    "carsales.max_power=pd.to_numeric(carsales.max_power,errors=\"coerce\")"
   ]
  },
  {
   "cell_type": "code",
   "execution_count": 22,
   "id": "fcf50963",
   "metadata": {},
   "outputs": [],
   "source": [
    "carsales.torq=pd.to_numeric(carsales.torq,errors=\"coerce\")"
   ]
  },
  {
   "cell_type": "code",
   "execution_count": 23,
   "id": "27b0e32e",
   "metadata": {},
   "outputs": [
    {
     "data": {
      "text/html": [
       "<div>\n",
       "<style scoped>\n",
       "    .dataframe tbody tr th:only-of-type {\n",
       "        vertical-align: middle;\n",
       "    }\n",
       "\n",
       "    .dataframe tbody tr th {\n",
       "        vertical-align: top;\n",
       "    }\n",
       "\n",
       "    .dataframe thead th {\n",
       "        text-align: right;\n",
       "    }\n",
       "</style>\n",
       "<table border=\"1\" class=\"dataframe\">\n",
       "  <thead>\n",
       "    <tr style=\"text-align: right;\">\n",
       "      <th></th>\n",
       "      <th>mileage</th>\n",
       "      <th>engine</th>\n",
       "      <th>max_power</th>\n",
       "      <th>seats</th>\n",
       "      <th>torq</th>\n",
       "    </tr>\n",
       "  </thead>\n",
       "  <tbody>\n",
       "    <tr>\n",
       "      <th>count</th>\n",
       "      <td>7907.000000</td>\n",
       "      <td>7907.000000</td>\n",
       "      <td>7912.000000</td>\n",
       "      <td>7907.000000</td>\n",
       "      <td>7332.000000</td>\n",
       "    </tr>\n",
       "    <tr>\n",
       "      <th>mean</th>\n",
       "      <td>19.418783</td>\n",
       "      <td>1458.625016</td>\n",
       "      <td>91.517919</td>\n",
       "      <td>5.416719</td>\n",
       "      <td>3072.693126</td>\n",
       "    </tr>\n",
       "    <tr>\n",
       "      <th>std</th>\n",
       "      <td>4.037145</td>\n",
       "      <td>503.916303</td>\n",
       "      <td>35.822499</td>\n",
       "      <td>0.959588</td>\n",
       "      <td>919.097085</td>\n",
       "    </tr>\n",
       "    <tr>\n",
       "      <th>min</th>\n",
       "      <td>0.000000</td>\n",
       "      <td>624.000000</td>\n",
       "      <td>0.000000</td>\n",
       "      <td>2.000000</td>\n",
       "      <td>500.000000</td>\n",
       "    </tr>\n",
       "    <tr>\n",
       "      <th>25%</th>\n",
       "      <td>16.780000</td>\n",
       "      <td>1197.000000</td>\n",
       "      <td>68.050000</td>\n",
       "      <td>5.000000</td>\n",
       "      <td>2250.000000</td>\n",
       "    </tr>\n",
       "    <tr>\n",
       "      <th>50%</th>\n",
       "      <td>19.300000</td>\n",
       "      <td>1248.000000</td>\n",
       "      <td>82.000000</td>\n",
       "      <td>5.000000</td>\n",
       "      <td>3000.000000</td>\n",
       "    </tr>\n",
       "    <tr>\n",
       "      <th>75%</th>\n",
       "      <td>22.320000</td>\n",
       "      <td>1582.000000</td>\n",
       "      <td>102.000000</td>\n",
       "      <td>5.000000</td>\n",
       "      <td>4000.000000</td>\n",
       "    </tr>\n",
       "    <tr>\n",
       "      <th>max</th>\n",
       "      <td>42.000000</td>\n",
       "      <td>3604.000000</td>\n",
       "      <td>400.000000</td>\n",
       "      <td>14.000000</td>\n",
       "      <td>5300.000000</td>\n",
       "    </tr>\n",
       "  </tbody>\n",
       "</table>\n",
       "</div>"
      ],
      "text/plain": [
       "           mileage       engine    max_power        seats         torq\n",
       "count  7907.000000  7907.000000  7912.000000  7907.000000  7332.000000\n",
       "mean     19.418783  1458.625016    91.517919     5.416719  3072.693126\n",
       "std       4.037145   503.916303    35.822499     0.959588   919.097085\n",
       "min       0.000000   624.000000     0.000000     2.000000   500.000000\n",
       "25%      16.780000  1197.000000    68.050000     5.000000  2250.000000\n",
       "50%      19.300000  1248.000000    82.000000     5.000000  3000.000000\n",
       "75%      22.320000  1582.000000   102.000000     5.000000  4000.000000\n",
       "max      42.000000  3604.000000   400.000000    14.000000  5300.000000"
      ]
     },
     "execution_count": 23,
     "metadata": {},
     "output_type": "execute_result"
    }
   ],
   "source": [
    "carsales[['mileage', 'engine', 'max_power','seats','torq']].describe()"
   ]
  },
  {
   "cell_type": "code",
   "execution_count": 24,
   "id": "664f993b",
   "metadata": {},
   "outputs": [],
   "source": [
    "import seaborn as sns"
   ]
  },
  {
   "cell_type": "code",
   "execution_count": 25,
   "id": "9b935eec",
   "metadata": {},
   "outputs": [
    {
     "name": "stderr",
     "output_type": "stream",
     "text": [
      "/Users/rajeshprabhakarkaila/anaconda3/lib/python3.11/site-packages/seaborn/_oldcore.py:1498: FutureWarning: is_categorical_dtype is deprecated and will be removed in a future version. Use isinstance(dtype, CategoricalDtype) instead\n",
      "  if pd.api.types.is_categorical_dtype(vector):\n",
      "/Users/rajeshprabhakarkaila/anaconda3/lib/python3.11/site-packages/seaborn/_oldcore.py:1498: FutureWarning: is_categorical_dtype is deprecated and will be removed in a future version. Use isinstance(dtype, CategoricalDtype) instead\n",
      "  if pd.api.types.is_categorical_dtype(vector):\n",
      "/Users/rajeshprabhakarkaila/anaconda3/lib/python3.11/site-packages/seaborn/_oldcore.py:1498: FutureWarning: is_categorical_dtype is deprecated and will be removed in a future version. Use isinstance(dtype, CategoricalDtype) instead\n",
      "  if pd.api.types.is_categorical_dtype(vector):\n",
      "/Users/rajeshprabhakarkaila/anaconda3/lib/python3.11/site-packages/seaborn/_oldcore.py:1498: FutureWarning: is_categorical_dtype is deprecated and will be removed in a future version. Use isinstance(dtype, CategoricalDtype) instead\n",
      "  if pd.api.types.is_categorical_dtype(vector):\n",
      "/Users/rajeshprabhakarkaila/anaconda3/lib/python3.11/site-packages/seaborn/_oldcore.py:1498: FutureWarning: is_categorical_dtype is deprecated and will be removed in a future version. Use isinstance(dtype, CategoricalDtype) instead\n",
      "  if pd.api.types.is_categorical_dtype(vector):\n"
     ]
    },
    {
     "data": {
      "text/plain": [
       "<Axes: >"
      ]
     },
     "execution_count": 25,
     "metadata": {},
     "output_type": "execute_result"
    },
    {
     "data": {
      "image/png": "[encoded data removed]",
      "text/plain": [
       "<Figure size 640x480 with 1 Axes>"
      ]
     },
     "metadata": {},
     "output_type": "display_data"
    }
   ],
   "source": [
    "sns.boxplot(carsales[['mileage', 'engine', 'max_power','seats','torq']])"
   ]
  },
  {
   "cell_type": "code",
   "execution_count": 26,
   "id": "1721e97a",
   "metadata": {},
   "outputs": [],
   "source": [
    "# Median Imputation of Missing Values\n",
    "for col in ['mileage', 'engine', 'max_power','seats','torq']:\n",
    "    carsales[col]=carsales[col].fillna(carsales[col].median())"
   ]
  },
  {
   "cell_type": "code",
   "execution_count": 27,
   "id": "ad6393dd",
   "metadata": {},
   "outputs": [],
   "source": [
    "# Create new variable \"Age\" based on purchase year as of year 2022\n",
    "carsales['age']=2022-carsales.year"
   ]
  },
  {
   "cell_type": "code",
   "execution_count": 28,
   "id": "2195bfbc",
   "metadata": {},
   "outputs": [
    {
     "data": {
      "text/plain": [
       "count    8128.000000\n",
       "mean        8.195989\n",
       "std         4.044249\n",
       "min         2.000000\n",
       "25%         5.000000\n",
       "50%         7.000000\n",
       "75%        11.000000\n",
       "max        39.000000\n",
       "Name: age, dtype: float64"
      ]
     },
     "execution_count": 28,
     "metadata": {},
     "output_type": "execute_result"
    }
   ],
   "source": [
    "carsales.age.describe()"
   ]
  },
  {
   "cell_type": "code",
   "execution_count": 29,
   "id": "a964e71e",
   "metadata": {},
   "outputs": [
    {
     "data": {
      "text/plain": [
       "Index(['name', 'year', 'selling_price', 'km_driven', 'fuel', 'seller_type',\n",
       "       'transmission', 'owner', 'mileage', 'engine', 'max_power', 'torque',\n",
       "       'seats', 'companyname', 'torq', 'age'],\n",
       "      dtype='object')"
      ]
     },
     "execution_count": 29,
     "metadata": {},
     "output_type": "execute_result"
    }
   ],
   "source": [
    "carsales.columns"
   ]
  },
  {
   "cell_type": "code",
   "execution_count": 30,
   "id": "783f8cbd",
   "metadata": {},
   "outputs": [],
   "source": [
    "carsales=carsales.drop(['name', 'year','torque'],axis=1)"
   ]
  },
  {
   "cell_type": "code",
   "execution_count": 31,
   "id": "850691d0",
   "metadata": {},
   "outputs": [],
   "source": [
    "# Data Vizualization\n",
    "# Frequency Counts and Pie Diagram with percentage for variables fuel, seller_type,\n",
    "# owner\n",
    "# Cross Tabulation and Stacked Bar Plot for variables fuel & seller_type, owner & fuel\n",
    "# companyname & fuel\n",
    "# Bar plot of companyname\n",
    "# Histogram, Boxplot and Density Curve - selling_price, km_driven, mileage"
   ]
  },
  {
   "cell_type": "code",
   "execution_count": 32,
   "id": "7d280873",
   "metadata": {},
   "outputs": [
    {
     "data": {
      "text/plain": [
       "<Axes: ylabel='count'>"
      ]
     },
     "execution_count": 32,
     "metadata": {},
     "output_type": "execute_result"
    },
    {
     "data": {
      "image/png": "[encoded data removed]",
      "text/plain": [
       "<Figure size 640x480 with 1 Axes>"
      ]
     },
     "metadata": {},
     "output_type": "display_data"
    }
   ],
   "source": [
    "carsales.fuel.value_counts().plot(kind=\"pie\",autopct=\"%.2f%%\",\n",
    "                                 colors=[\"red\",\"yellow\",\"green\",\"blue\"])"
   ]
  },
  {
   "cell_type": "code",
   "execution_count": 33,
   "id": "f04d9e92",
   "metadata": {},
   "outputs": [
    {
     "data": {
      "text/plain": [
       "<Axes: ylabel='count'>"
      ]
     },
     "execution_count": 33,
     "metadata": {},
     "output_type": "execute_result"
    },
    {
     "data": {
      "image/png": "[encoded data removed]",
      "text/plain": [
       "<Figure size 640x480 with 1 Axes>"
      ]
     },
     "metadata": {},
     "output_type": "display_data"
    }
   ],
   "source": [
    "carsales.seller_type.value_counts().plot(kind=\"pie\",autopct=\"%.2f%%\")"
   ]
  },
  {
   "cell_type": "code",
   "execution_count": 34,
   "id": "f43bbf94",
   "metadata": {},
   "outputs": [
    {
     "data": {
      "text/plain": [
       "<Axes: ylabel='count'>"
      ]
     },
     "execution_count": 34,
     "metadata": {},
     "output_type": "execute_result"
    },
    {
     "data": {
      "image/png": "[encoded data removed]",
      "text/plain": [
       "<Figure size 640x480 with 1 Axes>"
      ]
     },
     "metadata": {},
     "output_type": "display_data"
    }
   ],
   "source": [
    "carsales.owner.value_counts().plot(kind=\"pie\",autopct=\"%.2f%%\")"
   ]
  },
  {
   "cell_type": "code",
   "execution_count": 35,
   "id": "9b6a3c73",
   "metadata": {},
   "outputs": [
    {
     "data": {
      "image/png": "[encoded data removed]",
      "text/plain": [
       "<Figure size 640x480 with 1 Axes>"
      ]
     },
     "metadata": {},
     "output_type": "display_data"
    }
   ],
   "source": [
    "ax=pd.crosstab(carsales.seller_type,carsales.fuel).plot(kind=\"bar\",stacked=True)\n",
    "for i in ax.containers:\n",
    "    ax.bar_label(i)"
   ]
  },
  {
   "cell_type": "code",
   "execution_count": 36,
   "id": "62befe78",
   "metadata": {},
   "outputs": [
    {
     "data": {
      "image/png": "[encoded data removed]",
      "text/plain": [
       "<Figure size 640x480 with 1 Axes>"
      ]
     },
     "metadata": {},
     "output_type": "display_data"
    }
   ],
   "source": [
    "ax=pd.crosstab(carsales.owner,carsales.fuel).plot(kind=\"bar\",stacked=True)\n",
    "for i in ax.containers:\n",
    "    ax.bar_label(i)"
   ]
  },
  {
   "cell_type": "code",
   "execution_count": 37,
   "id": "3191a5fb",
   "metadata": {},
   "outputs": [
    {
     "data": {
      "image/png": "[encoded data removed]",
      "text/plain": [
       "<Figure size 1500x1000 with 1 Axes>"
      ]
     },
     "metadata": {},
     "output_type": "display_data"
    }
   ],
   "source": [
    "ax=pd.crosstab(carsales.companyname,carsales.fuel).plot(kind=\"bar\",\n",
    "                                                        stacked=True,figsize=(15,10))\n",
    "for i in ax.containers:\n",
    "    ax.bar_label(i)"
   ]
  },
  {
   "cell_type": "code",
   "execution_count": 38,
   "id": "837e4edf",
   "metadata": {},
   "outputs": [
    {
     "name": "stderr",
     "output_type": "stream",
     "text": [
      "/Users/rajeshprabhakarkaila/anaconda3/lib/python3.11/site-packages/seaborn/_oldcore.py:1498: FutureWarning: is_categorical_dtype is deprecated and will be removed in a future version. Use isinstance(dtype, CategoricalDtype) instead\n",
      "  if pd.api.types.is_categorical_dtype(vector):\n",
      "/Users/rajeshprabhakarkaila/anaconda3/lib/python3.11/site-packages/seaborn/_oldcore.py:1119: FutureWarning: use_inf_as_na option is deprecated and will be removed in a future version. Convert inf values to NaN before operating instead.\n",
      "  with pd.option_context('mode.use_inf_as_na', True):\n",
      "/Users/rajeshprabhakarkaila/anaconda3/lib/python3.11/site-packages/seaborn/_oldcore.py:1498: FutureWarning: is_categorical_dtype is deprecated and will be removed in a future version. Use isinstance(dtype, CategoricalDtype) instead\n",
      "  if pd.api.types.is_categorical_dtype(vector):\n",
      "/Users/rajeshprabhakarkaila/anaconda3/lib/python3.11/site-packages/seaborn/_oldcore.py:1119: FutureWarning: use_inf_as_na option is deprecated and will be removed in a future version. Convert inf values to NaN before operating instead.\n",
      "  with pd.option_context('mode.use_inf_as_na', True):\n"
     ]
    },
    {
     "data": {
      "image/png": "[encoded data removed]",
      "text/plain": [
       "<Figure size 640x480 with 3 Axes>"
      ]
     },
     "metadata": {},
     "output_type": "display_data"
    }
   ],
   "source": [
    "fig,ax=plt.subplots(3,1)\n",
    "sns.histplot(carsales.selling_price,ax=ax[0])\n",
    "sns.boxplot(carsales.selling_price,ax=ax[1],orient=\"h\")\n",
    "sns.kdeplot(carsales.selling_price,ax=ax[2])\n",
    "plt.show()"
   ]
  },
  {
   "cell_type": "code",
   "execution_count": 39,
   "id": "2424eb14",
   "metadata": {},
   "outputs": [
    {
     "name": "stderr",
     "output_type": "stream",
     "text": [
      "/Users/rajeshprabhakarkaila/anaconda3/lib/python3.11/site-packages/seaborn/_oldcore.py:1498: FutureWarning: is_categorical_dtype is deprecated and will be removed in a future version. Use isinstance(dtype, CategoricalDtype) instead\n",
      "  if pd.api.types.is_categorical_dtype(vector):\n",
      "/Users/rajeshprabhakarkaila/anaconda3/lib/python3.11/site-packages/seaborn/_oldcore.py:1119: FutureWarning: use_inf_as_na option is deprecated and will be removed in a future version. Convert inf values to NaN before operating instead.\n",
      "  with pd.option_context('mode.use_inf_as_na', True):\n",
      "/Users/rajeshprabhakarkaila/anaconda3/lib/python3.11/site-packages/seaborn/_oldcore.py:1498: FutureWarning: is_categorical_dtype is deprecated and will be removed in a future version. Use isinstance(dtype, CategoricalDtype) instead\n",
      "  if pd.api.types.is_categorical_dtype(vector):\n",
      "/Users/rajeshprabhakarkaila/anaconda3/lib/python3.11/site-packages/seaborn/_oldcore.py:1119: FutureWarning: use_inf_as_na option is deprecated and will be removed in a future version. Convert inf values to NaN before operating instead.\n",
      "  with pd.option_context('mode.use_inf_as_na', True):\n"
     ]
    },
    {
     "data": {
      "image/png": "[encoded data removed]",
      "text/plain": [
       "<Figure size 640x480 with 3 Axes>"
      ]
     },
     "metadata": {},
     "output_type": "display_data"
    }
   ],
   "source": [
    "fig,ax=plt.subplots(3,1)\n",
    "sns.histplot(carsales.km_driven,ax=ax[0])\n",
    "sns.boxplot(carsales.km_driven,ax=ax[1],orient=\"h\")\n",
    "sns.kdeplot(carsales.km_driven,ax=ax[2])\n",
    "plt.show()"
   ]
  },
  {
   "cell_type": "code",
   "execution_count": 40,
   "id": "607dc77c",
   "metadata": {},
   "outputs": [
    {
     "name": "stderr",
     "output_type": "stream",
     "text": [
      "/Users/rajeshprabhakarkaila/anaconda3/lib/python3.11/site-packages/seaborn/_oldcore.py:1498: FutureWarning: is_categorical_dtype is deprecated and will be removed in a future version. Use isinstance(dtype, CategoricalDtype) instead\n",
      "  if pd.api.types.is_categorical_dtype(vector):\n",
      "/Users/rajeshprabhakarkaila/anaconda3/lib/python3.11/site-packages/seaborn/_oldcore.py:1119: FutureWarning: use_inf_as_na option is deprecated and will be removed in a future version. Convert inf values to NaN before operating instead.\n",
      "  with pd.option_context('mode.use_inf_as_na', True):\n",
      "/Users/rajeshprabhakarkaila/anaconda3/lib/python3.11/site-packages/seaborn/_oldcore.py:1498: FutureWarning: is_categorical_dtype is deprecated and will be removed in a future version. Use isinstance(dtype, CategoricalDtype) instead\n",
      "  if pd.api.types.is_categorical_dtype(vector):\n",
      "/Users/rajeshprabhakarkaila/anaconda3/lib/python3.11/site-packages/seaborn/_oldcore.py:1119: FutureWarning: use_inf_as_na option is deprecated and will be removed in a future version. Convert inf values to NaN before operating instead.\n",
      "  with pd.option_context('mode.use_inf_as_na', True):\n"
     ]
    },
    {
     "data": {
      "image/png": "[encoded data removed]",
      "text/plain": [
       "<Figure size 640x480 with 3 Axes>"
      ]
     },
     "metadata": {},
     "output_type": "display_data"
    }
   ],
   "source": [
    "fig,ax=plt.subplots(3,1)\n",
    "sns.histplot(carsales.mileage,ax=ax[0])\n",
    "sns.boxplot(carsales.mileage,ax=ax[1],orient=\"h\")\n",
    "sns.kdeplot(carsales.mileage,ax=ax[2])\n",
    "plt.show()"
   ]
  },
  {
   "cell_type": "code",
   "execution_count": 41,
   "id": "ac421daa",
   "metadata": {},
   "outputs": [],
   "source": [
    "# Hypothesis Testing - Comparision of Means/Averages of 2 or more than 3 levels/groups/classes\n",
    "# Fundamental Assumption - Means/Averages must be different\n",
    "\n",
    "# Variable 1 Numerical and Variable 2 categorical with exactly 2 levels/groups/classes-\n",
    "# 2 Sample Independent T test\n",
    "\n",
    "# # Variable 1 Numerical and Variable 2 categorical with morethan 2 levels/groups/classes-\n",
    "# Anova Single Factor\n",
    "\n",
    "# Variable 1 Categorical and Variable 2 categorical - Chi Square Test of Independence\n",
    "\n",
    "# Variable 1 Numeric and Before and Variable 2 Numeric and After - Paired Sample T test\n",
    "\n",
    "# Process of Conducting Hypothesis Test\n",
    "# 1) groupby() - mean and variance\n",
    "# 2) Frame Null and Alternate Hypothesis\n",
    "# 3) Split Data into as many levels\n",
    "# 4) Conduct Test and interpret based on p-value\n",
    "\n",
    "# p-value interpretation - 2 tail test (rejection on Both Sides)\n",
    "# p-value less than 0.05, Reject Null\n",
    "# p-value greater than 0.05, Fail to Reject (Accept) Null\n",
    "# 0.05 means 5% Alpha(probable error rate) and 95% Confidence Level"
   ]
  },
  {
   "attachments": {
    "image.png": {
     "image/png": "[encoded data removed]"
    }
   },
   "cell_type": "markdown",
   "id": "60e55b66",
   "metadata": {},
   "source": [
    "![image.png](attachment:image.png)"
   ]
  },
  {
   "cell_type": "code",
   "execution_count": 42,
   "id": "2c0591ea",
   "metadata": {},
   "outputs": [
    {
     "data": {
      "text/plain": [
       "transmission\n",
       "Automatic    1870827.60\n",
       "Manual        455425.86\n",
       "Name: selling_price, dtype: float64"
      ]
     },
     "execution_count": 42,
     "metadata": {},
     "output_type": "execute_result"
    }
   ],
   "source": [
    "# Test Null Average selling_price of different transmission is equal\n",
    "np.round(carsales.selling_price.groupby(carsales.transmission).mean(),2)\n",
    "# Since exactly 2 levels/groups/classes - 2 Sample Independent T Test"
   ]
  },
  {
   "cell_type": "code",
   "execution_count": 43,
   "id": "6f5da2a8",
   "metadata": {},
   "outputs": [
    {
     "data": {
      "text/plain": [
       "transmission\n",
       "Automatic    2.691349e+12\n",
       "Manual       8.872370e+10\n",
       "Name: selling_price, dtype: float64"
      ]
     },
     "execution_count": 43,
     "metadata": {},
     "output_type": "execute_result"
    }
   ],
   "source": [
    "np.round(carsales.selling_price.groupby(carsales.transmission).var(),2)"
   ]
  },
  {
   "cell_type": "code",
   "execution_count": 44,
   "id": "7478a777",
   "metadata": {},
   "outputs": [],
   "source": [
    "# Frame Null and Alternate Hypothesis\n",
    "# Null - There is no Significant difference in Average selling_price of auto & manual cars\n",
    "# H0 - meanof auto = mean of manual\n",
    "\n",
    "# Alt - There is Significant difference in Average selling_price of auto & manual cars\n",
    "# Ha - meanof auto != mean of manual"
   ]
  },
  {
   "cell_type": "code",
   "execution_count": 45,
   "id": "885d2994",
   "metadata": {},
   "outputs": [],
   "source": [
    "# Split Data into auto and manual\n",
    "auto=carsales[carsales.transmission==\"Automatic\"]\n",
    "manual=carsales[carsales.transmission==\"Manual\"]"
   ]
  },
  {
   "cell_type": "code",
   "execution_count": 46,
   "id": "678531d6",
   "metadata": {},
   "outputs": [],
   "source": [
    "from scipy.stats import ttest_ind"
   ]
  },
  {
   "cell_type": "code",
   "execution_count": 47,
   "id": "d9b40231",
   "metadata": {},
   "outputs": [
    {
     "data": {
      "text/plain": [
       "TtestResult(statistic=27.888813193478946, pvalue=8.531946079710315e-129, df=1059.2814874514092)"
      ]
     },
     "execution_count": 47,
     "metadata": {},
     "output_type": "execute_result"
    }
   ],
   "source": [
    "ttest_ind(auto.selling_price,manual.selling_price,equal_var=False)\n",
    "# Since pvalue=8.531946079710315e-129 is less than 0.05, Reject Null\n",
    "# Difference in Means is Statistically Significant"
   ]
  },
  {
   "cell_type": "code",
   "execution_count": 48,
   "id": "9486b3f1",
   "metadata": {},
   "outputs": [
    {
     "data": {
      "text/plain": [
       "transmission\n",
       "Automatic    40276.086667\n",
       "Manual       74202.188895\n",
       "Name: km_driven, dtype: float64"
      ]
     },
     "execution_count": 48,
     "metadata": {},
     "output_type": "execute_result"
    }
   ],
   "source": [
    "# Test Null Average km_driven for auto and manual cars equal\n",
    "# groupby() - mean & var, Frame Null & Alt, Conduct test & interpret\n",
    "carsales.km_driven.groupby(carsales.transmission).mean()"
   ]
  },
  {
   "cell_type": "code",
   "execution_count": 49,
   "id": "744c0d27",
   "metadata": {},
   "outputs": [
    {
     "data": {
      "text/plain": [
       "transmission\n",
       "Automatic    1.250228e+09\n",
       "Manual       3.338416e+09\n",
       "Name: km_driven, dtype: float64"
      ]
     },
     "execution_count": 49,
     "metadata": {},
     "output_type": "execute_result"
    }
   ],
   "source": [
    "carsales.km_driven.groupby(carsales.transmission).var()"
   ]
  },
  {
   "cell_type": "code",
   "execution_count": 50,
   "id": "c8cb43db",
   "metadata": {},
   "outputs": [],
   "source": [
    "# Frame Null and Alternate Hypothesis\n",
    "# Null - There is no Significant difference in Average km_driven of auto & manual cars\n",
    "# Alt - There is Significant difference in Average km_driven of auto & manual cars"
   ]
  },
  {
   "cell_type": "code",
   "execution_count": 51,
   "id": "b41390ea",
   "metadata": {},
   "outputs": [
    {
     "data": {
      "text/plain": [
       "TtestResult(statistic=-26.31311123939943, pvalue=2.851791533885484e-131, df=1998.1925323759576)"
      ]
     },
     "execution_count": 51,
     "metadata": {},
     "output_type": "execute_result"
    }
   ],
   "source": [
    "ttest_ind(auto.km_driven,manual.km_driven,equal_var=False)\n",
    "# Since pvalue=2.851791533885484e-131 is less than 0.05, Reject Null"
   ]
  },
  {
   "cell_type": "code",
   "execution_count": 52,
   "id": "16905b4e",
   "metadata": {},
   "outputs": [],
   "source": [
    "# Test Null Average mileage of auto and manual cars equal"
   ]
  },
  {
   "cell_type": "code",
   "execution_count": 53,
   "id": "37c79557",
   "metadata": {},
   "outputs": [
    {
     "data": {
      "text/plain": [
       "transmission\n",
       "Automatic    17.579638\n",
       "Manual       19.687906\n",
       "Name: mileage, dtype: float64"
      ]
     },
     "execution_count": 53,
     "metadata": {},
     "output_type": "execute_result"
    }
   ],
   "source": [
    "carsales.mileage.groupby(carsales.transmission).mean()"
   ]
  },
  {
   "cell_type": "code",
   "execution_count": 54,
   "id": "097bb900",
   "metadata": {},
   "outputs": [
    {
     "data": {
      "text/plain": [
       "transmission\n",
       "Automatic    15.773254\n",
       "Manual       15.295890\n",
       "Name: mileage, dtype: float64"
      ]
     },
     "execution_count": 54,
     "metadata": {},
     "output_type": "execute_result"
    }
   ],
   "source": [
    "carsales.mileage.groupby(carsales.transmission).var()"
   ]
  },
  {
   "cell_type": "code",
   "execution_count": 55,
   "id": "378c6859",
   "metadata": {},
   "outputs": [],
   "source": [
    "# Frame Null and Alternate Hypothesis\n",
    "# Null - There is no Significant difference in Average mileage of auto & manual cars\n",
    "# Alt - There is Significant difference in Average mileage of auto & manual cars"
   ]
  },
  {
   "cell_type": "code",
   "execution_count": 56,
   "id": "7221b032",
   "metadata": {},
   "outputs": [
    {
     "data": {
      "text/plain": [
       "TtestResult(statistic=-16.08325308774936, pvalue=1.924423779471943e-53, df=1368.3244399399287)"
      ]
     },
     "execution_count": 56,
     "metadata": {},
     "output_type": "execute_result"
    }
   ],
   "source": [
    "ttest_ind(auto.mileage,manual.mileage,equal_var=False)\n",
    "# Since pvalue=1.924423779471943e-53 is less than 0.05, Reject Null"
   ]
  },
  {
   "cell_type": "code",
   "execution_count": 57,
   "id": "07cab9e3",
   "metadata": {},
   "outputs": [
    {
     "data": {
      "text/plain": [
       "fuel\n",
       "CNG       301017.491228\n",
       "Diesel    791452.921627\n",
       "LPG       200421.052632\n",
       "Petrol    462441.061691\n",
       "Name: selling_price, dtype: float64"
      ]
     },
     "execution_count": 57,
     "metadata": {},
     "output_type": "execute_result"
    }
   ],
   "source": [
    "# Test Null Average selling_price for different fuel is equal\n",
    "carsales.selling_price.groupby(carsales.fuel).mean()\n",
    "# More than 2 levels/groups/classes - Anova Single Factor"
   ]
  },
  {
   "cell_type": "code",
   "execution_count": 58,
   "id": "892784b0",
   "metadata": {},
   "outputs": [],
   "source": [
    "# Frame Null & Alternate\n",
    "# Null - There is no Significant difference in Average selling_price of different fuel cars\n",
    "# Alt - There is Significant difference in Average selling_price of different fuel cars"
   ]
  },
  {
   "cell_type": "code",
   "execution_count": 59,
   "id": "ecaa2894",
   "metadata": {},
   "outputs": [],
   "source": [
    "# Split Data\n",
    "cng=carsales[carsales.fuel==\"CNG\"]\n",
    "diesel=carsales[carsales.fuel==\"Diesel\"]\n",
    "lpg=carsales[carsales.fuel==\"LPG\"]\n",
    "petrol=carsales[carsales.fuel==\"Petrol\"]"
   ]
  },
  {
   "cell_type": "code",
   "execution_count": 60,
   "id": "c000babd",
   "metadata": {},
   "outputs": [],
   "source": [
    "from scipy.stats import f_oneway"
   ]
  },
  {
   "cell_type": "code",
   "execution_count": 61,
   "id": "8e208b7b",
   "metadata": {},
   "outputs": [
    {
     "data": {
      "text/plain": [
       "F_onewayResult(statistic=122.88062883888716, pvalue=7.768067697277526e-78)"
      ]
     },
     "execution_count": 61,
     "metadata": {},
     "output_type": "execute_result"
    }
   ],
   "source": [
    "f_oneway(cng.selling_price,diesel.selling_price,lpg.selling_price,petrol.selling_price)\n",
    "# Since pvalue=7.768067697277526e-78 is less than 0.05, Reject Null"
   ]
  },
  {
   "cell_type": "code",
   "execution_count": 62,
   "id": "eb7b6689",
   "metadata": {},
   "outputs": [
    {
     "data": {
      "text/plain": [
       "fuel\n",
       "CNG       23.824211\n",
       "Diesel    19.634607\n",
       "LPG       18.634211\n",
       "Petrol    19.088956\n",
       "Name: mileage, dtype: float64"
      ]
     },
     "execution_count": 62,
     "metadata": {},
     "output_type": "execute_result"
    }
   ],
   "source": [
    "# Test Null Avearge mileage of different fuel cars equal\n",
    "carsales.mileage.groupby(carsales.fuel).mean()"
   ]
  },
  {
   "cell_type": "code",
   "execution_count": 63,
   "id": "dfcf36b0",
   "metadata": {},
   "outputs": [],
   "source": [
    "# Frame Null & Alternate\n",
    "# Null - There is no Significant difference in Average mileage of different fuel cars\n",
    "# Alt - There is Significant difference in Average mileage of different fuel cars"
   ]
  },
  {
   "cell_type": "code",
   "execution_count": 64,
   "id": "f9366b07",
   "metadata": {},
   "outputs": [
    {
     "data": {
      "text/plain": [
       "F_onewayResult(statistic=36.842275392000154, pvalue=1.218592729218157e-23)"
      ]
     },
     "execution_count": 64,
     "metadata": {},
     "output_type": "execute_result"
    }
   ],
   "source": [
    "f_oneway(cng.mileage,diesel.mileage,lpg.mileage,petrol.mileage)\n",
    "# Since pvalue=1.218592729218157e-23 is less than 0.05, Reject Null"
   ]
  },
  {
   "cell_type": "code",
   "execution_count": 65,
   "id": "9d0df541",
   "metadata": {},
   "outputs": [
    {
     "data": {
      "text/html": [
       "<div>\n",
       "<style scoped>\n",
       "    .dataframe tbody tr th:only-of-type {\n",
       "        vertical-align: middle;\n",
       "    }\n",
       "\n",
       "    .dataframe tbody tr th {\n",
       "        vertical-align: top;\n",
       "    }\n",
       "\n",
       "    .dataframe thead th {\n",
       "        text-align: right;\n",
       "    }\n",
       "</style>\n",
       "<table border=\"1\" class=\"dataframe\">\n",
       "  <thead>\n",
       "    <tr style=\"text-align: right;\">\n",
       "      <th>fuel</th>\n",
       "      <th>CNG</th>\n",
       "      <th>Diesel</th>\n",
       "      <th>LPG</th>\n",
       "      <th>Petrol</th>\n",
       "    </tr>\n",
       "    <tr>\n",
       "      <th>transmission</th>\n",
       "      <th></th>\n",
       "      <th></th>\n",
       "      <th></th>\n",
       "      <th></th>\n",
       "    </tr>\n",
       "  </thead>\n",
       "  <tbody>\n",
       "    <tr>\n",
       "      <th>Automatic</th>\n",
       "      <td>0</td>\n",
       "      <td>534</td>\n",
       "      <td>0</td>\n",
       "      <td>516</td>\n",
       "    </tr>\n",
       "    <tr>\n",
       "      <th>Manual</th>\n",
       "      <td>57</td>\n",
       "      <td>3868</td>\n",
       "      <td>38</td>\n",
       "      <td>3115</td>\n",
       "    </tr>\n",
       "  </tbody>\n",
       "</table>\n",
       "</div>"
      ],
      "text/plain": [
       "fuel          CNG  Diesel  LPG  Petrol\n",
       "transmission                          \n",
       "Automatic       0     534    0     516\n",
       "Manual         57    3868   38    3115"
      ]
     },
     "execution_count": 65,
     "metadata": {},
     "output_type": "execute_result"
    }
   ],
   "source": [
    "# Both Variables Categarical - Chi Square Test of Independence\n",
    "# Input of Chisquare Test is Cross Tabulation. Cross Tabulation is frequency table of\n",
    "# 2 Non Numeric Categorical Variables.\n",
    "\n",
    "# Test Null No Association between fuel and transmission\n",
    "\n",
    "pd.crosstab(carsales.transmission,carsales.fuel)"
   ]
  },
  {
   "cell_type": "code",
   "execution_count": 66,
   "id": "b447f8ff",
   "metadata": {},
   "outputs": [],
   "source": [
    "# Null - There is no Association between both variables\n",
    "# Alt - There is Association between both variables"
   ]
  },
  {
   "cell_type": "code",
   "execution_count": 67,
   "id": "7c8277bf",
   "metadata": {},
   "outputs": [],
   "source": [
    "from scipy.stats import chi2_contingency"
   ]
  },
  {
   "cell_type": "code",
   "execution_count": 68,
   "id": "4a7a6292",
   "metadata": {},
   "outputs": [
    {
     "data": {
      "text/plain": [
       "Chi2ContingencyResult(statistic=21.912764347384904, pvalue=6.801498516561924e-05, dof=3, expected_freq=array([[   7.36343504,  568.66387795,    4.90895669,  469.06373031],\n",
       "       [  49.63656496, 3833.33612205,   33.09104331, 3161.93626969]]))"
      ]
     },
     "execution_count": 68,
     "metadata": {},
     "output_type": "execute_result"
    }
   ],
   "source": [
    "chi2_contingency(pd.crosstab(carsales.transmission,carsales.fuel))\n",
    "# Since pvalue=6.801498516561924e-05 is less than 0.05, Reject Null"
   ]
  },
  {
   "cell_type": "code",
   "execution_count": 69,
   "id": "35bce3a4",
   "metadata": {},
   "outputs": [
    {
     "data": {
      "text/html": [
       "<div>\n",
       "<style scoped>\n",
       "    .dataframe tbody tr th:only-of-type {\n",
       "        vertical-align: middle;\n",
       "    }\n",
       "\n",
       "    .dataframe tbody tr th {\n",
       "        vertical-align: top;\n",
       "    }\n",
       "\n",
       "    .dataframe thead th {\n",
       "        text-align: right;\n",
       "    }\n",
       "</style>\n",
       "<table border=\"1\" class=\"dataframe\">\n",
       "  <thead>\n",
       "    <tr style=\"text-align: right;\">\n",
       "      <th>seller_type</th>\n",
       "      <th>Dealer</th>\n",
       "      <th>Individual</th>\n",
       "      <th>Trustmark Dealer</th>\n",
       "    </tr>\n",
       "    <tr>\n",
       "      <th>fuel</th>\n",
       "      <th></th>\n",
       "      <th></th>\n",
       "      <th></th>\n",
       "    </tr>\n",
       "  </thead>\n",
       "  <tbody>\n",
       "    <tr>\n",
       "      <th>CNG</th>\n",
       "      <td>0</td>\n",
       "      <td>57</td>\n",
       "      <td>0</td>\n",
       "    </tr>\n",
       "    <tr>\n",
       "      <th>Diesel</th>\n",
       "      <td>704</td>\n",
       "      <td>3664</td>\n",
       "      <td>34</td>\n",
       "    </tr>\n",
       "    <tr>\n",
       "      <th>LPG</th>\n",
       "      <td>2</td>\n",
       "      <td>36</td>\n",
       "      <td>0</td>\n",
       "    </tr>\n",
       "    <tr>\n",
       "      <th>Petrol</th>\n",
       "      <td>420</td>\n",
       "      <td>3009</td>\n",
       "      <td>202</td>\n",
       "    </tr>\n",
       "  </tbody>\n",
       "</table>\n",
       "</div>"
      ],
      "text/plain": [
       "seller_type  Dealer  Individual  Trustmark Dealer\n",
       "fuel                                             \n",
       "CNG               0          57                 0\n",
       "Diesel          704        3664                34\n",
       "LPG               2          36                 0\n",
       "Petrol          420        3009               202"
      ]
     },
     "execution_count": 69,
     "metadata": {},
     "output_type": "execute_result"
    }
   ],
   "source": [
    "# Test Null No Association between fuel and seller_type\n",
    "pd.crosstab(carsales.fuel,carsales.seller_type)"
   ]
  },
  {
   "cell_type": "code",
   "execution_count": 70,
   "id": "95e1d227",
   "metadata": {},
   "outputs": [],
   "source": [
    "# Null - There is no Association between both variables\n",
    "# Alt - There is Association between both variables"
   ]
  },
  {
   "cell_type": "code",
   "execution_count": 71,
   "id": "1583ea4d",
   "metadata": {},
   "outputs": [
    {
     "data": {
      "text/plain": [
       "Chi2ContingencyResult(statistic=200.82868982394092, pvalue=1.2641980292155646e-40, dof=6, expected_freq=array([[7.89640748e+00, 4.74485728e+01, 1.65501969e+00],\n",
       "       [6.09824311e+02, 3.66436171e+03, 1.27813976e+02],\n",
       "       [5.26427165e+00, 3.16323819e+01, 1.10334646e+00],\n",
       "       [5.03015010e+02, 3.02255733e+03, 1.05427657e+02]]))"
      ]
     },
     "execution_count": 71,
     "metadata": {},
     "output_type": "execute_result"
    }
   ],
   "source": [
    "chi2_contingency(pd.crosstab(carsales.fuel,carsales.seller_type))\n",
    "# Since pvalue=1.2641980292155646e-40 is less than 0.05, Reject Null"
   ]
  },
  {
   "cell_type": "code",
   "execution_count": 72,
   "id": "b1821fa7",
   "metadata": {},
   "outputs": [],
   "source": [
    "# T Test -Students T Distribution\n",
    "# Anova - F Distribution\n",
    "# ChiSquare - Chi Distribution"
   ]
  },
  {
   "cell_type": "code",
   "execution_count": 73,
   "id": "55c917e5",
   "metadata": {},
   "outputs": [
    {
     "data": {
      "text/plain": [
       "Index(['selling_price', 'km_driven', 'fuel', 'seller_type', 'transmission',\n",
       "       'owner', 'mileage', 'engine', 'max_power', 'seats', 'companyname',\n",
       "       'torq', 'age'],\n",
       "      dtype='object')"
      ]
     },
     "execution_count": 73,
     "metadata": {},
     "output_type": "execute_result"
    }
   ],
   "source": [
    "carsales.columns"
   ]
  },
  {
   "cell_type": "code",
   "execution_count": 74,
   "id": "5dfbf9d0",
   "metadata": {},
   "outputs": [],
   "source": [
    "carsales=pd.get_dummies(carsales,columns=['fuel', 'seller_type', 'transmission','owner',\n",
    "                                         'seats', 'companyname'])"
   ]
  },
  {
   "cell_type": "code",
   "execution_count": 75,
   "id": "a8a52b2c",
   "metadata": {},
   "outputs": [
    {
     "data": {
      "text/html": [
       "<div>\n",
       "<style scoped>\n",
       "    .dataframe tbody tr th:only-of-type {\n",
       "        vertical-align: middle;\n",
       "    }\n",
       "\n",
       "    .dataframe tbody tr th {\n",
       "        vertical-align: top;\n",
       "    }\n",
       "\n",
       "    .dataframe thead th {\n",
       "        text-align: right;\n",
       "    }\n",
       "</style>\n",
       "<table border=\"1\" class=\"dataframe\">\n",
       "  <thead>\n",
       "    <tr style=\"text-align: right;\">\n",
       "      <th></th>\n",
       "      <th>selling_price</th>\n",
       "      <th>km_driven</th>\n",
       "      <th>mileage</th>\n",
       "      <th>engine</th>\n",
       "      <th>max_power</th>\n",
       "      <th>torq</th>\n",
       "      <th>age</th>\n",
       "      <th>fuel_CNG</th>\n",
       "      <th>fuel_Diesel</th>\n",
       "      <th>fuel_LPG</th>\n",
       "      <th>fuel_Petrol</th>\n",
       "      <th>seller_type_Dealer</th>\n",
       "      <th>seller_type_Individual</th>\n",
       "      <th>seller_type_Trustmark Dealer</th>\n",
       "      <th>transmission_Automatic</th>\n",
       "      <th>transmission_Manual</th>\n",
       "      <th>owner_First Owner</th>\n",
       "      <th>owner_Fourth &amp; Above Owner</th>\n",
       "      <th>owner_Second Owner</th>\n",
       "      <th>owner_Test Drive Car</th>\n",
       "      <th>owner_Third Owner</th>\n",
       "      <th>seats_2.0</th>\n",
       "      <th>seats_4.0</th>\n",
       "      <th>seats_5.0</th>\n",
       "      <th>seats_6.0</th>\n",
       "      <th>seats_7.0</th>\n",
       "      <th>seats_8.0</th>\n",
       "      <th>seats_9.0</th>\n",
       "      <th>seats_10.0</th>\n",
       "      <th>seats_14.0</th>\n",
       "      <th>companyname_Ambassador</th>\n",
       "      <th>companyname_Ashok</th>\n",
       "      <th>companyname_Audi</th>\n",
       "      <th>companyname_BMW</th>\n",
       "      <th>companyname_Chevrolet</th>\n",
       "      <th>companyname_Daewoo</th>\n",
       "      <th>companyname_Datsun</th>\n",
       "      <th>companyname_Fiat</th>\n",
       "      <th>companyname_Force</th>\n",
       "      <th>companyname_Ford</th>\n",
       "      <th>companyname_Honda</th>\n",
       "      <th>companyname_Hyundai</th>\n",
       "      <th>companyname_Isuzu</th>\n",
       "      <th>companyname_Jaguar</th>\n",
       "      <th>companyname_Jeep</th>\n",
       "      <th>companyname_Kia</th>\n",
       "      <th>companyname_Land</th>\n",
       "      <th>companyname_Lexus</th>\n",
       "      <th>companyname_MG</th>\n",
       "      <th>companyname_Mahindra</th>\n",
       "      <th>companyname_Maruti</th>\n",
       "      <th>companyname_Mercedes-Benz</th>\n",
       "      <th>companyname_Mitsubishi</th>\n",
       "      <th>companyname_Nissan</th>\n",
       "      <th>companyname_Opel</th>\n",
       "      <th>companyname_Peugeot</th>\n",
       "      <th>companyname_Renault</th>\n",
       "      <th>companyname_Skoda</th>\n",
       "      <th>companyname_Tata</th>\n",
       "      <th>companyname_Toyota</th>\n",
       "      <th>companyname_Volkswagen</th>\n",
       "      <th>companyname_Volvo</th>\n",
       "    </tr>\n",
       "  </thead>\n",
       "  <tbody>\n",
       "    <tr>\n",
       "      <th>0</th>\n",
       "      <td>450000</td>\n",
       "      <td>145500</td>\n",
       "      <td>23.40</td>\n",
       "      <td>1248.0</td>\n",
       "      <td>74.00</td>\n",
       "      <td>2000.0</td>\n",
       "      <td>8</td>\n",
       "      <td>False</td>\n",
       "      <td>True</td>\n",
       "      <td>False</td>\n",
       "      <td>False</td>\n",
       "      <td>False</td>\n",
       "      <td>True</td>\n",
       "      <td>False</td>\n",
       "      <td>False</td>\n",
       "      <td>True</td>\n",
       "      <td>True</td>\n",
       "      <td>False</td>\n",
       "      <td>False</td>\n",
       "      <td>False</td>\n",
       "      <td>False</td>\n",
       "      <td>False</td>\n",
       "      <td>False</td>\n",
       "      <td>True</td>\n",
       "      <td>False</td>\n",
       "      <td>False</td>\n",
       "      <td>False</td>\n",
       "      <td>False</td>\n",
       "      <td>False</td>\n",
       "      <td>False</td>\n",
       "      <td>False</td>\n",
       "      <td>False</td>\n",
       "      <td>False</td>\n",
       "      <td>False</td>\n",
       "      <td>False</td>\n",
       "      <td>False</td>\n",
       "      <td>False</td>\n",
       "      <td>False</td>\n",
       "      <td>False</td>\n",
       "      <td>False</td>\n",
       "      <td>False</td>\n",
       "      <td>False</td>\n",
       "      <td>False</td>\n",
       "      <td>False</td>\n",
       "      <td>False</td>\n",
       "      <td>False</td>\n",
       "      <td>False</td>\n",
       "      <td>False</td>\n",
       "      <td>False</td>\n",
       "      <td>False</td>\n",
       "      <td>True</td>\n",
       "      <td>False</td>\n",
       "      <td>False</td>\n",
       "      <td>False</td>\n",
       "      <td>False</td>\n",
       "      <td>False</td>\n",
       "      <td>False</td>\n",
       "      <td>False</td>\n",
       "      <td>False</td>\n",
       "      <td>False</td>\n",
       "      <td>False</td>\n",
       "      <td>False</td>\n",
       "    </tr>\n",
       "    <tr>\n",
       "      <th>1</th>\n",
       "      <td>370000</td>\n",
       "      <td>120000</td>\n",
       "      <td>21.14</td>\n",
       "      <td>1498.0</td>\n",
       "      <td>103.52</td>\n",
       "      <td>2500.0</td>\n",
       "      <td>8</td>\n",
       "      <td>False</td>\n",
       "      <td>True</td>\n",
       "      <td>False</td>\n",
       "      <td>False</td>\n",
       "      <td>False</td>\n",
       "      <td>True</td>\n",
       "      <td>False</td>\n",
       "      <td>False</td>\n",
       "      <td>True</td>\n",
       "      <td>False</td>\n",
       "      <td>False</td>\n",
       "      <td>True</td>\n",
       "      <td>False</td>\n",
       "      <td>False</td>\n",
       "      <td>False</td>\n",
       "      <td>False</td>\n",
       "      <td>True</td>\n",
       "      <td>False</td>\n",
       "      <td>False</td>\n",
       "      <td>False</td>\n",
       "      <td>False</td>\n",
       "      <td>False</td>\n",
       "      <td>False</td>\n",
       "      <td>False</td>\n",
       "      <td>False</td>\n",
       "      <td>False</td>\n",
       "      <td>False</td>\n",
       "      <td>False</td>\n",
       "      <td>False</td>\n",
       "      <td>False</td>\n",
       "      <td>False</td>\n",
       "      <td>False</td>\n",
       "      <td>False</td>\n",
       "      <td>False</td>\n",
       "      <td>False</td>\n",
       "      <td>False</td>\n",
       "      <td>False</td>\n",
       "      <td>False</td>\n",
       "      <td>False</td>\n",
       "      <td>False</td>\n",
       "      <td>False</td>\n",
       "      <td>False</td>\n",
       "      <td>False</td>\n",
       "      <td>False</td>\n",
       "      <td>False</td>\n",
       "      <td>False</td>\n",
       "      <td>False</td>\n",
       "      <td>False</td>\n",
       "      <td>False</td>\n",
       "      <td>False</td>\n",
       "      <td>True</td>\n",
       "      <td>False</td>\n",
       "      <td>False</td>\n",
       "      <td>False</td>\n",
       "      <td>False</td>\n",
       "    </tr>\n",
       "    <tr>\n",
       "      <th>2</th>\n",
       "      <td>158000</td>\n",
       "      <td>140000</td>\n",
       "      <td>17.70</td>\n",
       "      <td>1497.0</td>\n",
       "      <td>78.00</td>\n",
       "      <td>3000.0</td>\n",
       "      <td>16</td>\n",
       "      <td>False</td>\n",
       "      <td>False</td>\n",
       "      <td>False</td>\n",
       "      <td>True</td>\n",
       "      <td>False</td>\n",
       "      <td>True</td>\n",
       "      <td>False</td>\n",
       "      <td>False</td>\n",
       "      <td>True</td>\n",
       "      <td>False</td>\n",
       "      <td>False</td>\n",
       "      <td>False</td>\n",
       "      <td>False</td>\n",
       "      <td>True</td>\n",
       "      <td>False</td>\n",
       "      <td>False</td>\n",
       "      <td>True</td>\n",
       "      <td>False</td>\n",
       "      <td>False</td>\n",
       "      <td>False</td>\n",
       "      <td>False</td>\n",
       "      <td>False</td>\n",
       "      <td>False</td>\n",
       "      <td>False</td>\n",
       "      <td>False</td>\n",
       "      <td>False</td>\n",
       "      <td>False</td>\n",
       "      <td>False</td>\n",
       "      <td>False</td>\n",
       "      <td>False</td>\n",
       "      <td>False</td>\n",
       "      <td>False</td>\n",
       "      <td>False</td>\n",
       "      <td>True</td>\n",
       "      <td>False</td>\n",
       "      <td>False</td>\n",
       "      <td>False</td>\n",
       "      <td>False</td>\n",
       "      <td>False</td>\n",
       "      <td>False</td>\n",
       "      <td>False</td>\n",
       "      <td>False</td>\n",
       "      <td>False</td>\n",
       "      <td>False</td>\n",
       "      <td>False</td>\n",
       "      <td>False</td>\n",
       "      <td>False</td>\n",
       "      <td>False</td>\n",
       "      <td>False</td>\n",
       "      <td>False</td>\n",
       "      <td>False</td>\n",
       "      <td>False</td>\n",
       "      <td>False</td>\n",
       "      <td>False</td>\n",
       "      <td>False</td>\n",
       "    </tr>\n",
       "    <tr>\n",
       "      <th>3</th>\n",
       "      <td>225000</td>\n",
       "      <td>127000</td>\n",
       "      <td>23.00</td>\n",
       "      <td>1396.0</td>\n",
       "      <td>90.00</td>\n",
       "      <td>2750.0</td>\n",
       "      <td>12</td>\n",
       "      <td>False</td>\n",
       "      <td>True</td>\n",
       "      <td>False</td>\n",
       "      <td>False</td>\n",
       "      <td>False</td>\n",
       "      <td>True</td>\n",
       "      <td>False</td>\n",
       "      <td>False</td>\n",
       "      <td>True</td>\n",
       "      <td>True</td>\n",
       "      <td>False</td>\n",
       "      <td>False</td>\n",
       "      <td>False</td>\n",
       "      <td>False</td>\n",
       "      <td>False</td>\n",
       "      <td>False</td>\n",
       "      <td>True</td>\n",
       "      <td>False</td>\n",
       "      <td>False</td>\n",
       "      <td>False</td>\n",
       "      <td>False</td>\n",
       "      <td>False</td>\n",
       "      <td>False</td>\n",
       "      <td>False</td>\n",
       "      <td>False</td>\n",
       "      <td>False</td>\n",
       "      <td>False</td>\n",
       "      <td>False</td>\n",
       "      <td>False</td>\n",
       "      <td>False</td>\n",
       "      <td>False</td>\n",
       "      <td>False</td>\n",
       "      <td>False</td>\n",
       "      <td>False</td>\n",
       "      <td>True</td>\n",
       "      <td>False</td>\n",
       "      <td>False</td>\n",
       "      <td>False</td>\n",
       "      <td>False</td>\n",
       "      <td>False</td>\n",
       "      <td>False</td>\n",
       "      <td>False</td>\n",
       "      <td>False</td>\n",
       "      <td>False</td>\n",
       "      <td>False</td>\n",
       "      <td>False</td>\n",
       "      <td>False</td>\n",
       "      <td>False</td>\n",
       "      <td>False</td>\n",
       "      <td>False</td>\n",
       "      <td>False</td>\n",
       "      <td>False</td>\n",
       "      <td>False</td>\n",
       "      <td>False</td>\n",
       "      <td>False</td>\n",
       "    </tr>\n",
       "    <tr>\n",
       "      <th>4</th>\n",
       "      <td>130000</td>\n",
       "      <td>120000</td>\n",
       "      <td>16.10</td>\n",
       "      <td>1298.0</td>\n",
       "      <td>88.20</td>\n",
       "      <td>3000.0</td>\n",
       "      <td>15</td>\n",
       "      <td>False</td>\n",
       "      <td>False</td>\n",
       "      <td>False</td>\n",
       "      <td>True</td>\n",
       "      <td>False</td>\n",
       "      <td>True</td>\n",
       "      <td>False</td>\n",
       "      <td>False</td>\n",
       "      <td>True</td>\n",
       "      <td>True</td>\n",
       "      <td>False</td>\n",
       "      <td>False</td>\n",
       "      <td>False</td>\n",
       "      <td>False</td>\n",
       "      <td>False</td>\n",
       "      <td>False</td>\n",
       "      <td>True</td>\n",
       "      <td>False</td>\n",
       "      <td>False</td>\n",
       "      <td>False</td>\n",
       "      <td>False</td>\n",
       "      <td>False</td>\n",
       "      <td>False</td>\n",
       "      <td>False</td>\n",
       "      <td>False</td>\n",
       "      <td>False</td>\n",
       "      <td>False</td>\n",
       "      <td>False</td>\n",
       "      <td>False</td>\n",
       "      <td>False</td>\n",
       "      <td>False</td>\n",
       "      <td>False</td>\n",
       "      <td>False</td>\n",
       "      <td>False</td>\n",
       "      <td>False</td>\n",
       "      <td>False</td>\n",
       "      <td>False</td>\n",
       "      <td>False</td>\n",
       "      <td>False</td>\n",
       "      <td>False</td>\n",
       "      <td>False</td>\n",
       "      <td>False</td>\n",
       "      <td>False</td>\n",
       "      <td>True</td>\n",
       "      <td>False</td>\n",
       "      <td>False</td>\n",
       "      <td>False</td>\n",
       "      <td>False</td>\n",
       "      <td>False</td>\n",
       "      <td>False</td>\n",
       "      <td>False</td>\n",
       "      <td>False</td>\n",
       "      <td>False</td>\n",
       "      <td>False</td>\n",
       "      <td>False</td>\n",
       "    </tr>\n",
       "  </tbody>\n",
       "</table>\n",
       "</div>"
      ],
      "text/plain": [
       "   selling_price  km_driven  mileage  engine  max_power    torq  age  \\\n",
       "0         450000     145500    23.40  1248.0      74.00  2000.0    8   \n",
       "1         370000     120000    21.14  1498.0     103.52  2500.0    8   \n",
       "2         158000     140000    17.70  1497.0      78.00  3000.0   16   \n",
       "3         225000     127000    23.00  1396.0      90.00  2750.0   12   \n",
       "4         130000     120000    16.10  1298.0      88.20  3000.0   15   \n",
       "\n",
       "   fuel_CNG  fuel_Diesel  fuel_LPG  fuel_Petrol  seller_type_Dealer  \\\n",
       "0     False         True     False        False               False   \n",
       "1     False         True     False        False               False   \n",
       "2     False        False     False         True               False   \n",
       "3     False         True     False        False               False   \n",
       "4     False        False     False         True               False   \n",
       "\n",
       "   seller_type_Individual  seller_type_Trustmark Dealer  \\\n",
       "0                    True                         False   \n",
       "1                    True                         False   \n",
       "2                    True                         False   \n",
       "3                    True                         False   \n",
       "4                    True                         False   \n",
       "\n",
       "   transmission_Automatic  transmission_Manual  owner_First Owner  \\\n",
       "0                   False                 True               True   \n",
       "1                   False                 True              False   \n",
       "2                   False                 True              False   \n",
       "3                   False                 True               True   \n",
       "4                   False                 True               True   \n",
       "\n",
       "   owner_Fourth & Above Owner  owner_Second Owner  owner_Test Drive Car  \\\n",
       "0                       False               False                 False   \n",
       "1                       False                True                 False   \n",
       "2                       False               False                 False   \n",
       "3                       False               False                 False   \n",
       "4                       False               False                 False   \n",
       "\n",
       "   owner_Third Owner  seats_2.0  seats_4.0  seats_5.0  seats_6.0  seats_7.0  \\\n",
       "0              False      False      False       True      False      False   \n",
       "1              False      False      False       True      False      False   \n",
       "2               True      False      False       True      False      False   \n",
       "3              False      False      False       True      False      False   \n",
       "4              False      False      False       True      False      False   \n",
       "\n",
       "   seats_8.0  seats_9.0  seats_10.0  seats_14.0  companyname_Ambassador  \\\n",
       "0      False      False       False       False                   False   \n",
       "1      False      False       False       False                   False   \n",
       "2      False      False       False       False                   False   \n",
       "3      False      False       False       False                   False   \n",
       "4      False      False       False       False                   False   \n",
       "\n",
       "   companyname_Ashok  companyname_Audi  companyname_BMW  \\\n",
       "0              False             False            False   \n",
       "1              False             False            False   \n",
       "2              False             False            False   \n",
       "3              False             False            False   \n",
       "4              False             False            False   \n",
       "\n",
       "   companyname_Chevrolet  companyname_Daewoo  companyname_Datsun  \\\n",
       "0                  False               False               False   \n",
       "1                  False               False               False   \n",
       "2                  False               False               False   \n",
       "3                  False               False               False   \n",
       "4                  False               False               False   \n",
       "\n",
       "   companyname_Fiat  companyname_Force  companyname_Ford  companyname_Honda  \\\n",
       "0             False              False             False              False   \n",
       "1             False              False             False              False   \n",
       "2             False              False             False               True   \n",
       "3             False              False             False              False   \n",
       "4             False              False             False              False   \n",
       "\n",
       "   companyname_Hyundai  companyname_Isuzu  companyname_Jaguar  \\\n",
       "0                False              False               False   \n",
       "1                False              False               False   \n",
       "2                False              False               False   \n",
       "3                 True              False               False   \n",
       "4                False              False               False   \n",
       "\n",
       "   companyname_Jeep  companyname_Kia  companyname_Land  companyname_Lexus  \\\n",
       "0             False            False             False              False   \n",
       "1             False            False             False              False   \n",
       "2             False            False             False              False   \n",
       "3             False            False             False              False   \n",
       "4             False            False             False              False   \n",
       "\n",
       "   companyname_MG  companyname_Mahindra  companyname_Maruti  \\\n",
       "0           False                 False                True   \n",
       "1           False                 False               False   \n",
       "2           False                 False               False   \n",
       "3           False                 False               False   \n",
       "4           False                 False                True   \n",
       "\n",
       "   companyname_Mercedes-Benz  companyname_Mitsubishi  companyname_Nissan  \\\n",
       "0                      False                   False               False   \n",
       "1                      False                   False               False   \n",
       "2                      False                   False               False   \n",
       "3                      False                   False               False   \n",
       "4                      False                   False               False   \n",
       "\n",
       "   companyname_Opel  companyname_Peugeot  companyname_Renault  \\\n",
       "0             False                False                False   \n",
       "1             False                False                False   \n",
       "2             False                False                False   \n",
       "3             False                False                False   \n",
       "4             False                False                False   \n",
       "\n",
       "   companyname_Skoda  companyname_Tata  companyname_Toyota  \\\n",
       "0              False             False               False   \n",
       "1               True             False               False   \n",
       "2              False             False               False   \n",
       "3              False             False               False   \n",
       "4              False             False               False   \n",
       "\n",
       "   companyname_Volkswagen  companyname_Volvo  \n",
       "0                   False              False  \n",
       "1                   False              False  \n",
       "2                   False              False  \n",
       "3                   False              False  \n",
       "4                   False              False  "
      ]
     },
     "execution_count": 75,
     "metadata": {},
     "output_type": "execute_result"
    }
   ],
   "source": [
    "pd.set_option(\"display.max_columns\",62)\n",
    "carsales.head()"
   ]
  },
  {
   "cell_type": "code",
   "execution_count": 76,
   "id": "d8db3d7a",
   "metadata": {},
   "outputs": [],
   "source": [
    "# distribution of dependent variable(y) decides whether to use Regression or Classification\n",
    "# Regression Algorithms - Dependent Variable (y) is numerical, continuos, closer to\n",
    "# normal distribution(bell curve), with minimum outliers, and no missing values.\n",
    "\n",
    "# Classification Algorithsm - Dependent Variable(y) is non numeric either binary(yes/no) or\n",
    "# multinomial (more than 2 levels/classes/gorups)\n",
    "\n",
    "# Multiple Linear Regression explains linear relationship between dependent variable(y) and\n",
    "# multiple independent variables(X's). Multiple Linear Regression is an equation\n",
    "\n",
    "# y = B0+B1X1+B2X2+B3X3+B4X4 + ........... +BnXn+Et\n",
    "# y - Dependent Variable or Predicted Variable\n",
    "# Bo - Intercept or Constant (point at which straight line touched y axis)\n",
    "# B1,B2,B3,B4,..Bn - Coefficients\n",
    "# X1,X2,X3,X4,,,,Xn - Independent Variables or Predictors\n",
    "# Et - Error term or Residual=ActualValue - PredictedValue\n",
    "\n",
    "# Assumptions - MLR is parametric Algorithm(many assumptions) - Pre Model\n",
    "# 1) Dependent Variable y must be numerical,continuous, closer to normal distribution with\n",
    "# minimum outliers and no missing values\n",
    "# 2) Independent Variabels(X's) can be both numerical and nonnumeric categorical\n",
    "# 3) No Multicollinearity - Multicollinearity is very strong correlation(>0.90) among\n",
    "# variables. If multicollinearity is found do not include both variables choose one among\n",
    "# them else overfitting problem will occur.\n",
    "# Variance Inflation Factor (VIF) - VIF greater than 5 indiactes multicollinearity\n",
    "# 4) Exogentity -Dependent variable is dependent on Independent variables but not vice versa\n",
    "# y is dependent on X's but X's do not depend on y\n",
    "# 5 ) Sample Size required is minimum 20 observations per variable\n",
    "# 6) There must be a logical linear relationship between dependent variable and independent\n",
    "# variables\n",
    "\n",
    "# Post Model Assumptions\n",
    "# 7) Residuals must be normally distributed. Check using Q-Q plot\n",
    "# 8) Residuals must be homosceadstic in nature\n",
    "\n",
    "\n",
    "# Interpretation of Output (Python Only)\n",
    "# R Square must be between 0.60 - 0.95. R SQuare explains amount of variance occuring in\n",
    "# dependent variable caused by independent variables or model.\n",
    "# less than 0.60 - Underfitting\n",
    "# greater than 0.95 - Overfitting\n",
    "\n",
    "# Intercept + Coefficients for creating predictive equation\n",
    "\n",
    "# Statistical Interpretation of Output\n",
    "# 1) Adjusted R Square must be between 0.60 - 0.95. Adj R Square is sensitive to independent\n",
    "# variable significance, if independent variable is significant it will increase and if\n",
    "# variable is insignificant it will decrease.\n",
    "\n",
    "# 2) model p-value(lies below Adjusted R SQuare) or Significance F in MS Excel must be\n",
    "# less than 0.05. Reject Null\n",
    "# Null - Coefficients(B's) are equal to Zero\n",
    "# Alt - Coefficients(B's) are not equal to Zero\n",
    "\n",
    "# 3) Independent Variables(X's) p-value must be less than 0.05. Reject Null\n",
    "# Null - Independent Variable is Insignificant\n",
    "# Alt - Independent Variable is Significant"
   ]
  },
  {
   "cell_type": "code",
   "execution_count": 77,
   "id": "a784329c",
   "metadata": {},
   "outputs": [
    {
     "data": {
      "text/plain": [
       "Index(['selling_price', 'km_driven', 'mileage', 'engine', 'max_power', 'torq',\n",
       "       'age', 'fuel_CNG', 'fuel_Diesel', 'fuel_LPG', 'fuel_Petrol',\n",
       "       'seller_type_Dealer', 'seller_type_Individual',\n",
       "       'seller_type_Trustmark Dealer', 'transmission_Automatic',\n",
       "       'transmission_Manual', 'owner_First Owner',\n",
       "       'owner_Fourth & Above Owner', 'owner_Second Owner',\n",
       "       'owner_Test Drive Car', 'owner_Third Owner', 'seats_2.0', 'seats_4.0',\n",
       "       'seats_5.0', 'seats_6.0', 'seats_7.0', 'seats_8.0', 'seats_9.0',\n",
       "       'seats_10.0', 'seats_14.0', 'companyname_Ambassador',\n",
       "       'companyname_Ashok', 'companyname_Audi', 'companyname_BMW',\n",
       "       'companyname_Chevrolet', 'companyname_Daewoo', 'companyname_Datsun',\n",
       "       'companyname_Fiat', 'companyname_Force', 'companyname_Ford',\n",
       "       'companyname_Honda', 'companyname_Hyundai', 'companyname_Isuzu',\n",
       "       'companyname_Jaguar', 'companyname_Jeep', 'companyname_Kia',\n",
       "       'companyname_Land', 'companyname_Lexus', 'companyname_MG',\n",
       "       'companyname_Mahindra', 'companyname_Maruti',\n",
       "       'companyname_Mercedes-Benz', 'companyname_Mitsubishi',\n",
       "       'companyname_Nissan', 'companyname_Opel', 'companyname_Peugeot',\n",
       "       'companyname_Renault', 'companyname_Skoda', 'companyname_Tata',\n",
       "       'companyname_Toyota', 'companyname_Volkswagen', 'companyname_Volvo'],\n",
       "      dtype='object')"
      ]
     },
     "execution_count": 77,
     "metadata": {},
     "output_type": "execute_result"
    }
   ],
   "source": [
    "carsales.columns"
   ]
  },
  {
   "cell_type": "code",
   "execution_count": 78,
   "id": "26221d37",
   "metadata": {},
   "outputs": [
    {
     "data": {
      "text/html": [
       "<div>\n",
       "<style scoped>\n",
       "    .dataframe tbody tr th:only-of-type {\n",
       "        vertical-align: middle;\n",
       "    }\n",
       "\n",
       "    .dataframe tbody tr th {\n",
       "        vertical-align: top;\n",
       "    }\n",
       "\n",
       "    .dataframe thead th {\n",
       "        text-align: right;\n",
       "    }\n",
       "</style>\n",
       "<table border=\"1\" class=\"dataframe\">\n",
       "  <thead>\n",
       "    <tr style=\"text-align: right;\">\n",
       "      <th></th>\n",
       "      <th>selling_price</th>\n",
       "      <th>km_driven</th>\n",
       "      <th>mileage</th>\n",
       "      <th>engine</th>\n",
       "      <th>max_power</th>\n",
       "      <th>torq</th>\n",
       "      <th>age</th>\n",
       "    </tr>\n",
       "  </thead>\n",
       "  <tbody>\n",
       "    <tr>\n",
       "      <th>selling_price</th>\n",
       "      <td>1.000000</td>\n",
       "      <td>-0.225534</td>\n",
       "      <td>-0.125040</td>\n",
       "      <td>0.458345</td>\n",
       "      <td>0.747935</td>\n",
       "      <td>-0.026574</td>\n",
       "      <td>-0.414092</td>\n",
       "    </tr>\n",
       "    <tr>\n",
       "      <th>km_driven</th>\n",
       "      <td>-0.225534</td>\n",
       "      <td>1.000000</td>\n",
       "      <td>-0.171746</td>\n",
       "      <td>0.198911</td>\n",
       "      <td>-0.040599</td>\n",
       "      <td>-0.225604</td>\n",
       "      <td>0.418006</td>\n",
       "    </tr>\n",
       "    <tr>\n",
       "      <th>mileage</th>\n",
       "      <td>-0.125040</td>\n",
       "      <td>-0.171746</td>\n",
       "      <td>1.000000</td>\n",
       "      <td>-0.574128</td>\n",
       "      <td>-0.372897</td>\n",
       "      <td>-0.173322</td>\n",
       "      <td>-0.311657</td>\n",
       "    </tr>\n",
       "    <tr>\n",
       "      <th>engine</th>\n",
       "      <td>0.458345</td>\n",
       "      <td>0.198911</td>\n",
       "      <td>-0.574128</td>\n",
       "      <td>1.000000</td>\n",
       "      <td>0.703612</td>\n",
       "      <td>-0.201131</td>\n",
       "      <td>-0.035851</td>\n",
       "    </tr>\n",
       "    <tr>\n",
       "      <th>max_power</th>\n",
       "      <td>0.747935</td>\n",
       "      <td>-0.040599</td>\n",
       "      <td>-0.372897</td>\n",
       "      <td>0.703612</td>\n",
       "      <td>1.000000</td>\n",
       "      <td>-0.001697</td>\n",
       "      <td>-0.224704</td>\n",
       "    </tr>\n",
       "    <tr>\n",
       "      <th>torq</th>\n",
       "      <td>-0.026574</td>\n",
       "      <td>-0.225604</td>\n",
       "      <td>-0.173322</td>\n",
       "      <td>-0.201131</td>\n",
       "      <td>-0.001697</td>\n",
       "      <td>1.000000</td>\n",
       "      <td>-0.099360</td>\n",
       "    </tr>\n",
       "    <tr>\n",
       "      <th>age</th>\n",
       "      <td>-0.414092</td>\n",
       "      <td>0.418006</td>\n",
       "      <td>-0.311657</td>\n",
       "      <td>-0.035851</td>\n",
       "      <td>-0.224704</td>\n",
       "      <td>-0.099360</td>\n",
       "      <td>1.000000</td>\n",
       "    </tr>\n",
       "  </tbody>\n",
       "</table>\n",
       "</div>"
      ],
      "text/plain": [
       "               selling_price  km_driven   mileage    engine  max_power  \\\n",
       "selling_price       1.000000  -0.225534 -0.125040  0.458345   0.747935   \n",
       "km_driven          -0.225534   1.000000 -0.171746  0.198911  -0.040599   \n",
       "mileage            -0.125040  -0.171746  1.000000 -0.574128  -0.372897   \n",
       "engine              0.458345   0.198911 -0.574128  1.000000   0.703612   \n",
       "max_power           0.747935  -0.040599 -0.372897  0.703612   1.000000   \n",
       "torq               -0.026574  -0.225604 -0.173322 -0.201131  -0.001697   \n",
       "age                -0.414092   0.418006 -0.311657 -0.035851  -0.224704   \n",
       "\n",
       "                   torq       age  \n",
       "selling_price -0.026574 -0.414092  \n",
       "km_driven     -0.225604  0.418006  \n",
       "mileage       -0.173322 -0.311657  \n",
       "engine        -0.201131 -0.035851  \n",
       "max_power     -0.001697 -0.224704  \n",
       "torq           1.000000 -0.099360  \n",
       "age           -0.099360  1.000000  "
      ]
     },
     "execution_count": 78,
     "metadata": {},
     "output_type": "execute_result"
    }
   ],
   "source": [
    "# Check for Multicollinearity\n",
    "carsales[['selling_price', 'km_driven', 'mileage', 'engine', 'max_power', 'torq',\n",
    "       'age']].corr() # No Multicollinearity"
   ]
  },
  {
   "cell_type": "code",
   "execution_count": 79,
   "id": "e9984d45",
   "metadata": {},
   "outputs": [
    {
     "data": {
      "text/plain": [
       "<Axes: >"
      ]
     },
     "execution_count": 79,
     "metadata": {},
     "output_type": "execute_result"
    },
    {
     "data": {
      "image/png": "[encoded data removed]",
      "text/plain": [
       "<Figure size 640x480 with 2 Axes>"
      ]
     },
     "metadata": {},
     "output_type": "display_data"
    }
   ],
   "source": [
    "sns.heatmap(carsales[['selling_price', 'km_driven', 'mileage', 'engine', 'max_power', 'torq',\n",
    "       'age']].corr(),annot=True,cmap=\"plasma\")"
   ]
  },
  {
   "cell_type": "code",
   "execution_count": 80,
   "id": "6fa84d08",
   "metadata": {},
   "outputs": [],
   "source": [
    "# Split Data into Dependent Variable(y) and Independent Variables(X)\n",
    "y=carsales.selling_price\n",
    "X=carsales.drop(\"selling_price\",axis=1)"
   ]
  },
  {
   "cell_type": "code",
   "execution_count": 81,
   "id": "a6af63ca",
   "metadata": {},
   "outputs": [],
   "source": [
    "from sklearn.linear_model import LinearRegression"
   ]
  },
  {
   "cell_type": "code",
   "execution_count": 85,
   "id": "74e5e5b6",
   "metadata": {},
   "outputs": [
    {
     "name": "stderr",
     "output_type": "stream",
     "text": [
      "/Users/rajeshprabhakarkaila/anaconda3/lib/python3.11/site-packages/sklearn/utils/validation.py:767: FutureWarning: is_sparse is deprecated and will be removed in a future version. Check `isinstance(dtype, pd.SparseDtype)` instead.\n",
      "  if not hasattr(array, \"sparse\") and array.dtypes.apply(is_sparse).any():\n",
      "/Users/rajeshprabhakarkaila/anaconda3/lib/python3.11/site-packages/sklearn/utils/validation.py:605: FutureWarning: is_sparse is deprecated and will be removed in a future version. Check `isinstance(dtype, pd.SparseDtype)` instead.\n",
      "  if is_sparse(pd_dtype):\n",
      "/Users/rajeshprabhakarkaila/anaconda3/lib/python3.11/site-packages/sklearn/utils/validation.py:614: FutureWarning: is_sparse is deprecated and will be removed in a future version. Check `isinstance(dtype, pd.SparseDtype)` instead.\n",
      "  if is_sparse(pd_dtype) or not is_extension_array_dtype(pd_dtype):\n",
      "/Users/rajeshprabhakarkaila/anaconda3/lib/python3.11/site-packages/sklearn/utils/validation.py:605: FutureWarning: is_sparse is deprecated and will be removed in a future version. Check `isinstance(dtype, pd.SparseDtype)` instead.\n",
      "  if is_sparse(pd_dtype):\n",
      "/Users/rajeshprabhakarkaila/anaconda3/lib/python3.11/site-packages/sklearn/utils/validation.py:614: FutureWarning: is_sparse is deprecated and will be removed in a future version. Check `isinstance(dtype, pd.SparseDtype)` instead.\n",
      "  if is_sparse(pd_dtype) or not is_extension_array_dtype(pd_dtype):\n"
     ]
    }
   ],
   "source": [
    "regmodel=LinearRegression().fit(X,y)"
   ]
  },
  {
   "cell_type": "code",
   "execution_count": 86,
   "id": "65c59cf2",
   "metadata": {},
   "outputs": [
    {
     "name": "stderr",
     "output_type": "stream",
     "text": [
      "/Users/rajeshprabhakarkaila/anaconda3/lib/python3.11/site-packages/sklearn/utils/validation.py:767: FutureWarning: is_sparse is deprecated and will be removed in a future version. Check `isinstance(dtype, pd.SparseDtype)` instead.\n",
      "  if not hasattr(array, \"sparse\") and array.dtypes.apply(is_sparse).any():\n",
      "/Users/rajeshprabhakarkaila/anaconda3/lib/python3.11/site-packages/sklearn/utils/validation.py:605: FutureWarning: is_sparse is deprecated and will be removed in a future version. Check `isinstance(dtype, pd.SparseDtype)` instead.\n",
      "  if is_sparse(pd_dtype):\n",
      "/Users/rajeshprabhakarkaila/anaconda3/lib/python3.11/site-packages/sklearn/utils/validation.py:614: FutureWarning: is_sparse is deprecated and will be removed in a future version. Check `isinstance(dtype, pd.SparseDtype)` instead.\n",
      "  if is_sparse(pd_dtype) or not is_extension_array_dtype(pd_dtype):\n",
      "/Users/rajeshprabhakarkaila/anaconda3/lib/python3.11/site-packages/sklearn/utils/validation.py:605: FutureWarning: is_sparse is deprecated and will be removed in a future version. Check `isinstance(dtype, pd.SparseDtype)` instead.\n",
      "  if is_sparse(pd_dtype):\n",
      "/Users/rajeshprabhakarkaila/anaconda3/lib/python3.11/site-packages/sklearn/utils/validation.py:614: FutureWarning: is_sparse is deprecated and will be removed in a future version. Check `isinstance(dtype, pd.SparseDtype)` instead.\n",
      "  if is_sparse(pd_dtype) or not is_extension_array_dtype(pd_dtype):\n"
     ]
    },
    {
     "data": {
      "text/plain": [
       "0.8551297833952861"
      ]
     },
     "execution_count": 86,
     "metadata": {},
     "output_type": "execute_result"
    }
   ],
   "source": [
    "regmodel.score(X,y)"
   ]
  },
  {
   "cell_type": "code",
   "execution_count": null,
   "id": "0b6b9b1f",
   "metadata": {},
   "outputs": [],
   "source": [
    "# R Square -0.8551297833952861\n",
    "# 85.51% variance in selling_price(y) is explained by this model"
   ]
  },
  {
   "cell_type": "code",
   "execution_count": 87,
   "id": "8db232d4",
   "metadata": {},
   "outputs": [
    {
     "data": {
      "text/plain": [
       "1501075.6950207683"
      ]
     },
     "execution_count": 87,
     "metadata": {},
     "output_type": "execute_result"
    }
   ],
   "source": [
    "regmodel.intercept_"
   ]
  },
  {
   "cell_type": "code",
   "execution_count": 88,
   "id": "1f1d5de9",
   "metadata": {},
   "outputs": [
    {
     "name": "stdout",
     "output_type": "stream",
     "text": [
      "[('km_driven', -0.612370614858416), ('mileage', -284.97960733488713), ('engine', 50.37211758868989), ('max_power', 6748.356477032656), ('torq', -40.06732951720187), ('age', -44504.599900540634), ('fuel_CNG', -82163.53291896987), ('fuel_Diesel', -1380.7230757236248), ('fuel_LPG', 107495.05474270682), ('fuel_Petrol', -23950.79874813487), ('seller_type_Dealer', 37341.31028642005), ('seller_type_Individual', -21425.74676488631), ('seller_type_Trustmark Dealer', -15915.563521576929), ('transmission_Automatic', 49101.75182792387), ('transmission_Manual', -49101.75182792562), ('owner_First Owner', -470015.69264798623), ('owner_Fourth & Above Owner', -491880.39831359766), ('owner_Second Owner', -526118.4707575743), ('owner_Test Drive Car', 1991199.289360321), ('owner_Third Owner', -503184.7276410362), ('seats_2.0', -80631.97805531078), ('seats_4.0', 293416.6437911773), ('seats_5.0', -42917.25013008987), ('seats_6.0', -133521.55316449585), ('seats_7.0', -949.8731528341232), ('seats_8.0', -61756.31134590664), ('seats_9.0', -2415.4531548631494), ('seats_10.0', 101084.82613313278), ('seats_14.0', -72309.05092091725), ('companyname_Ambassador', -148356.20555410636), ('companyname_Ashok', -482092.8718441945), ('companyname_Audi', 447732.80005596316), ('companyname_BMW', 1979863.2534892205), ('companyname_Chevrolet', -644857.7591419588), ('companyname_Daewoo', -54853.30527554668), ('companyname_Datsun', -662646.7018453797), ('companyname_Fiat', -622103.127716769), ('companyname_Force', -585873.714069475), ('companyname_Ford', -552818.0892905918), ('companyname_Honda', -568144.548495638), ('companyname_Hyundai', -541879.3834635057), ('companyname_Isuzu', 28705.148379061022), ('companyname_Jaguar', 866705.186910324), ('companyname_Jeep', 151549.17031529848), ('companyname_Kia', -122383.14911141849), ('companyname_Land', 1753218.9200241137), ('companyname_Lexus', 2886648.4815405947), ('companyname_MG', -17437.270237589488), ('companyname_Mahindra', -552058.2329004771), ('companyname_Maruti', -494769.29694887006), ('companyname_Mercedes-Benz', 575675.9845690398), ('companyname_Mitsubishi', -280472.880854371), ('companyname_Nissan', -586142.7132326541), ('companyname_Opel', -141220.59179766837), ('companyname_Peugeot', -136617.26933278693), ('companyname_Renault', -580811.1057124805), ('companyname_Skoda', -588544.5447034545), ('companyname_Tata', -669391.8480892843), ('companyname_Toyota', -260515.23020741413), ('companyname_Volkswagen', -630478.2485291796), ('companyname_Volvo', 1234369.1430711201)]\n"
     ]
    }
   ],
   "source": [
    "print(list(zip(X.columns,regmodel.coef_)))"
   ]
  },
  {
   "cell_type": "code",
   "execution_count": 100,
   "id": "9d2393dd",
   "metadata": {},
   "outputs": [],
   "source": [
    "import warnings\n",
    "warnings.filterwarnings(\"ignore\")"
   ]
  },
  {
   "cell_type": "code",
   "execution_count": 101,
   "id": "f918933b",
   "metadata": {},
   "outputs": [],
   "source": [
    "regpredict=regmodel.predict(X) # predicted selling_price"
   ]
  },
  {
   "cell_type": "code",
   "execution_count": 102,
   "id": "c2e2d1a7",
   "metadata": {},
   "outputs": [],
   "source": [
    "# Residual = Actual selling_price - Predicted selling_price\n",
    "regresid=y-regpredict"
   ]
  },
  {
   "cell_type": "code",
   "execution_count": 103,
   "id": "a5e5bca9",
   "metadata": {},
   "outputs": [
    {
     "data": {
      "text/plain": [
       "306855.8435558256"
      ]
     },
     "execution_count": 103,
     "metadata": {},
     "output_type": "execute_result"
    }
   ],
   "source": [
    "# Root Mean Square Error (RMSE) - Diagnostic for all Regression Algorithms\n",
    "np.sqrt(np.mean(regresid**2)) # RMSE - 306855.8435"
   ]
  },
  {
   "attachments": {
    "image.png": {
     "image/png": "[encoded data removed]"
    }
   },
   "cell_type": "markdown",
   "id": "83677c6a",
   "metadata": {},
   "source": [
    "![image.png](attachment:image.png)"
   ]
  },
  {
   "cell_type": "code",
   "execution_count": 104,
   "id": "cac00bd0",
   "metadata": {},
   "outputs": [
    {
     "name": "stdout",
     "output_type": "stream",
     "text": [
      "Skewness 4.193533440675855\n",
      "Kurtosis 21.081289012186755\n"
     ]
    }
   ],
   "source": [
    "print(\"Skewness\",y.skew())\n",
    "print(\"Kurtosis\",y.kurt())"
   ]
  },
  {
   "cell_type": "code",
   "execution_count": 105,
   "id": "1cefc6f2",
   "metadata": {},
   "outputs": [],
   "source": [
    "# Dependent Variable - has Skewness and Kurtosis - Not Closer to Normal Distribution\n",
    "# Positive Skewness - Logarthmic Transformation or Square Root Transformation\n",
    "# Negative Skewness - Exponential Transformation or Power Transformation"
   ]
  },
  {
   "cell_type": "code",
   "execution_count": 106,
   "id": "0856ff43",
   "metadata": {},
   "outputs": [
    {
     "data": {
      "text/plain": [
       "<Axes: ylabel='Density'>"
      ]
     },
     "execution_count": 106,
     "metadata": {},
     "output_type": "execute_result"
    },
    {
     "data": {
      "image/png": "[encoded data removed]",
      "text/plain": [
       "<Figure size 640x480 with 1 Axes>"
      ]
     },
     "metadata": {},
     "output_type": "display_data"
    }
   ],
   "source": [
    "np.log(y).plot(kind=\"density\")"
   ]
  },
  {
   "cell_type": "code",
   "execution_count": 116,
   "id": "27ce67e8",
   "metadata": {},
   "outputs": [],
   "source": [
    "# Log Linear Model\n",
    "regmodel2=LinearRegression().fit(X,np.log(y))"
   ]
  },
  {
   "cell_type": "code",
   "execution_count": 117,
   "id": "d7701af2",
   "metadata": {},
   "outputs": [
    {
     "data": {
      "text/plain": [
       "0.9096944948105495"
      ]
     },
     "execution_count": 117,
     "metadata": {},
     "output_type": "execute_result"
    }
   ],
   "source": [
    "regmodel2.score(X,np.log(y))"
   ]
  },
  {
   "cell_type": "code",
   "execution_count": 118,
   "id": "deaffffe",
   "metadata": {},
   "outputs": [],
   "source": [
    "regmodel2_predict=regmodel2.predict(X)"
   ]
  },
  {
   "cell_type": "code",
   "execution_count": 120,
   "id": "bc304050",
   "metadata": {},
   "outputs": [],
   "source": [
    "regmodel2_predict=np.exp(regmodel2_predict)"
   ]
  },
  {
   "cell_type": "code",
   "execution_count": 114,
   "id": "41dcd685",
   "metadata": {},
   "outputs": [],
   "source": [
    "regmodel2_resid=y-regmodel2_predict"
   ]
  },
  {
   "cell_type": "code",
   "execution_count": 115,
   "id": "2010b6a9",
   "metadata": {},
   "outputs": [
    {
     "data": {
      "text/plain": [
       "207601.67122530454"
      ]
     },
     "execution_count": 115,
     "metadata": {},
     "output_type": "execute_result"
    }
   ],
   "source": [
    "np.sqrt(np.mean(regmodel2_resid**2))"
   ]
  },
  {
   "cell_type": "code",
   "execution_count": 123,
   "id": "e35b4969",
   "metadata": {},
   "outputs": [
    {
     "data": {
      "text/plain": [
       "count        8128.00\n",
       "mean       638271.81\n",
       "std        806253.40\n",
       "min         29999.00\n",
       "25%        254999.00\n",
       "50%        450000.00\n",
       "75%        675000.00\n",
       "max      10000000.00\n",
       "Name: selling_price, dtype: float64"
      ]
     },
     "execution_count": 123,
     "metadata": {},
     "output_type": "execute_result"
    }
   ],
   "source": [
    "np.round(carsales.selling_price.describe(),2)"
   ]
  },
  {
   "cell_type": "code",
   "execution_count": 124,
   "id": "af075363",
   "metadata": {},
   "outputs": [],
   "source": [
    "from sklearn.tree import DecisionTreeRegressor"
   ]
  },
  {
   "cell_type": "code",
   "execution_count": 131,
   "id": "825d110e",
   "metadata": {},
   "outputs": [],
   "source": [
    "treemodel=DecisionTreeRegressor(max_depth=8).fit(X,y)"
   ]
  },
  {
   "cell_type": "code",
   "execution_count": 132,
   "id": "193adbd3",
   "metadata": {},
   "outputs": [
    {
     "data": {
      "text/plain": [
       "0.9789097975640494"
      ]
     },
     "execution_count": 132,
     "metadata": {},
     "output_type": "execute_result"
    }
   ],
   "source": [
    "treemodel.score(X,y)"
   ]
  },
  {
   "cell_type": "code",
   "execution_count": 133,
   "id": "dbbe46a1",
   "metadata": {},
   "outputs": [],
   "source": [
    "from sklearn.model_selection import cross_val_score"
   ]
  },
  {
   "cell_type": "code",
   "execution_count": 134,
   "id": "ee41423c",
   "metadata": {},
   "outputs": [
    {
     "data": {
      "text/plain": [
       "array([0.93902324, 0.93959844, 0.96522707, 0.91664747, 0.90058289])"
      ]
     },
     "execution_count": 134,
     "metadata": {},
     "output_type": "execute_result"
    }
   ],
   "source": [
    "cross_val_score(treemodel,X,y)"
   ]
  },
  {
   "cell_type": "code",
   "execution_count": 135,
   "id": "6af8206d",
   "metadata": {},
   "outputs": [
    {
     "data": {
      "text/plain": [
       "0.9322158220000001"
      ]
     },
     "execution_count": 135,
     "metadata": {},
     "output_type": "execute_result"
    }
   ],
   "source": [
    "np.mean([0.93902324, 0.93959844, 0.96522707, 0.91664747, 0.90058289])"
   ]
  },
  {
   "cell_type": "code",
   "execution_count": 136,
   "id": "deaf9aa1",
   "metadata": {},
   "outputs": [],
   "source": [
    "treepredict=treemodel.predict(X)"
   ]
  },
  {
   "cell_type": "code",
   "execution_count": 137,
   "id": "7406a1f8",
   "metadata": {},
   "outputs": [],
   "source": [
    "treeresid=y-treepredict"
   ]
  },
  {
   "cell_type": "code",
   "execution_count": 138,
   "id": "fcd3ee4a",
   "metadata": {},
   "outputs": [
    {
     "data": {
      "text/plain": [
       "117080.6749935128"
      ]
     },
     "execution_count": 138,
     "metadata": {},
     "output_type": "execute_result"
    }
   ],
   "source": [
    "np.sqrt(np.mean(treeresid**2))"
   ]
  },
  {
   "cell_type": "code",
   "execution_count": 143,
   "id": "0a8c5a69",
   "metadata": {},
   "outputs": [],
   "source": [
    "from sklearn.tree import _tree\n",
    "def get_rules(tree, feature_names, class_names):\n",
    "    tree_ = tree.tree_\n",
    "    feature_name = [\n",
    "        feature_names[i] if i != _tree.TREE_UNDEFINED else \"undefined!\"\n",
    "        for i in tree_.feature\n",
    "    ]\n",
    "\n",
    "    paths = []\n",
    "    path = []\n",
    "   \n",
    "    def recurse(node, path, paths):\n",
    "       \n",
    "        if tree_.feature[node] != _tree.TREE_UNDEFINED:\n",
    "            name = feature_name[node]\n",
    "            threshold = tree_.threshold[node]\n",
    "            p1, p2 = list(path), list(path)\n",
    "            p1 += [f\"({name} <= {np.round(threshold, 3)})\"]\n",
    "            recurse(tree_.children_left[node], p1, paths)\n",
    "            p2 += [f\"({name} > {np.round(threshold, 3)})\"]\n",
    "            recurse(tree_.children_right[node], p2, paths)\n",
    "        else:\n",
    "            path += [(tree_.value[node], tree_.n_node_samples[node])]\n",
    "            paths += [path]\n",
    "           \n",
    "    recurse(0, path, paths)\n",
    "\n",
    "    # sort by samples count\n",
    "    samples_count = [p[-1][1] for p in paths]\n",
    "    ii = list(np.argsort(samples_count))\n",
    "    paths = [paths[i] for i in reversed(ii)]\n",
    "   \n",
    "    rules = []\n",
    "    for path in paths:\n",
    "        rule = \"if \"\n",
    "       \n",
    "        for p in path[:-1]:\n",
    "            if rule != \"if \":\n",
    "                rule += \" and \"\n",
    "            rule += str(p)\n",
    "        rule += \" then \"\n",
    "        if class_names is None:\n",
    "            rule += \"response: \"+str(np.round(path[-1][0][0][0],3))\n",
    "        else:\n",
    "            classes = path[-1][0][0]\n",
    "            l = np.argmax(classes)\n",
    "            rule += f\"class: {class_names[l]} (proba: {np.round(100.0*classes[l]/np.sum(classes),2)}%)\"\n",
    "        rule += f\" | based on {path[-1][1]:,} samples\"\n",
    "        rules += [rule]\n",
    "       \n",
    "    return rules"
   ]
  },
  {
   "cell_type": "code",
   "execution_count": 147,
   "id": "749b0720",
   "metadata": {},
   "outputs": [
    {
     "name": "stdout",
     "output_type": "stream",
     "text": [
      "if (max_power <= 172.915) and (max_power <= 147.97) and (age > 8.5) and (max_power <= 98.145) and (age > 11.5) and (age <= 14.5) and (max_power > 62.55) and (companyname_BMW <= 0.5) then class: 450000 (proba: 100.0%) | based on 495 samples\n",
      "if (max_power <= 172.915) and (max_power <= 147.97) and (age <= 8.5) and (max_power <= 87.0) and (max_power > 69.505) and (age <= 5.5) and (engine <= 1223.5) and (torq > 3675.0) then class: 450000 (proba: 100.0%) | based on 460 samples\n",
      "if (max_power <= 172.915) and (max_power <= 147.97) and (age > 8.5) and (max_power <= 98.145) and (age <= 11.5) and (max_power <= 73.4) and (engine <= 2223.5) and (engine > 996.5) then class: 450000 (proba: 100.0%) | based on 426 samples\n",
      "if (max_power <= 172.915) and (max_power <= 147.97) and (age <= 8.5) and (max_power > 87.0) and (max_power <= 117.45) and (age > 5.5) and (companyname_Toyota <= 0.5) and (age > 6.5) then class: 450000 (proba: 100.0%) | based on 360 samples\n",
      "if (max_power <= 172.915) and (max_power <= 147.97) and (age <= 8.5) and (max_power > 87.0) and (max_power <= 117.45) and (age <= 5.5) and (companyname_Kia <= 0.5) and (age <= 4.5) then class: 450000 (proba: 100.0%) | based on 356 samples\n",
      "if (max_power <= 172.915) and (max_power <= 147.97) and (age > 8.5) and (max_power <= 98.145) and (age <= 11.5) and (max_power > 73.4) and (seats_7.0 <= 0.5) and (torq > 2900.0) then class: 450000 (proba: 100.0%) | based on 318 samples\n",
      "if (max_power <= 172.915) and (max_power <= 147.97) and (age > 8.5) and (max_power <= 98.145) and (age <= 11.5) and (max_power > 73.4) and (seats_7.0 <= 0.5) and (torq <= 2900.0) then class: 450000 (proba: 100.0%) | based on 310 samples\n",
      "if (max_power <= 172.915) and (max_power <= 147.97) and (age <= 8.5) and (max_power <= 87.0) and (max_power > 69.505) and (age > 5.5) and (torq > 2225.0) and (engine <= 1197.5) then class: 450000 (proba: 100.0%) | based on 298 samples\n",
      "if (max_power <= 172.915) and (max_power <= 147.97) and (age > 8.5) and (max_power <= 98.145) and (age > 11.5) and (age > 14.5) and (max_power > 62.05) and (companyname_Mahindra <= 0.5) then class: 450000 (proba: 100.0%) | based on 287 samples\n",
      "if (max_power <= 172.915) and (max_power <= 147.97) and (age <= 8.5) and (max_power > 87.0) and (max_power <= 117.45) and (age <= 5.5) and (companyname_Kia <= 0.5) and (age > 4.5) then class: 450000 (proba: 100.0%) | based on 287 samples\n",
      "if (max_power <= 172.915) and (max_power <= 147.97) and (age <= 8.5) and (max_power > 87.0) and (max_power <= 117.45) and (age > 5.5) and (companyname_Toyota <= 0.5) and (age <= 6.5) then class: 450000 (proba: 100.0%) | based on 276 samples\n",
      "if (max_power <= 172.915) and (max_power <= 147.97) and (age <= 8.5) and (max_power <= 87.0) and (max_power <= 69.505) and (engine <= 1992.0) and (engine > 996.5) and (age <= 5.5) then class: 450000 (proba: 100.0%) | based on 253 samples\n",
      "if (max_power <= 172.915) and (max_power <= 147.97) and (age <= 8.5) and (max_power <= 87.0) and (max_power <= 69.505) and (engine <= 1992.0) and (engine > 996.5) and (age > 5.5) then class: 450000 (proba: 100.0%) | based on 252 samples\n",
      "if (max_power <= 172.915) and (max_power <= 147.97) and (age <= 8.5) and (max_power <= 87.0) and (max_power > 69.505) and (age <= 5.5) and (engine > 1223.5) and (companyname_BMW <= 0.5) then class: 450000 (proba: 100.0%) | based on 225 samples\n",
      "if (max_power <= 172.915) and (max_power <= 147.97) and (age > 8.5) and (max_power > 98.145) and (age <= 10.5) and (companyname_Toyota <= 0.5) and (max_power <= 139.05) and (mileage > 5.785) then class: 450000 (proba: 100.0%) | based on 218 samples\n",
      "if (max_power <= 172.915) and (max_power <= 147.97) and (age <= 8.5) and (max_power <= 87.0) and (max_power <= 69.505) and (engine <= 1992.0) and (engine <= 996.5) and (age <= 6.5) then class: 450000 (proba: 100.0%) | based on 216 samples\n",
      "if (max_power <= 172.915) and (max_power <= 147.97) and (age <= 8.5) and (max_power <= 87.0) and (max_power > 69.505) and (age <= 5.5) and (engine <= 1223.5) and (torq <= 3675.0) then class: 450000 (proba: 100.0%) | based on 186 samples\n",
      "if (max_power <= 172.915) and (max_power <= 147.97) and (age > 8.5) and (max_power > 98.145) and (age > 10.5) and (engine <= 2424.0) and (age <= 13.5) and (companyname_Mahindra <= 0.5) then class: 450000 (proba: 100.0%) | based on 184 samples\n",
      "if (max_power <= 172.915) and (max_power <= 147.97) and (age > 8.5) and (max_power <= 98.145) and (age <= 11.5) and (max_power <= 73.4) and (engine <= 2223.5) and (engine <= 996.5) then class: 450000 (proba: 100.0%) | based on 175 samples\n",
      "if (max_power <= 172.915) and (max_power <= 147.97) and (age <= 8.5) and (max_power <= 87.0) and (max_power > 69.505) and (age > 5.5) and (torq <= 2225.0) and (age <= 7.5) then class: 450000 (proba: 100.0%) | based on 164 samples\n",
      "if (max_power <= 172.915) and (max_power <= 147.97) and (age <= 8.5) and (max_power > 87.0) and (max_power > 117.45) and (age > 6.5) and (companyname_Tata <= 0.5) and (max_power <= 141.5) then class: 450000 (proba: 100.0%) | based on 155 samples\n",
      "if (max_power <= 172.915) and (max_power <= 147.97) and (age <= 8.5) and (max_power > 87.0) and (max_power > 117.45) and (age <= 6.5) and (max_power <= 130.16) and (age > 2.5) then class: 450000 (proba: 100.0%) | based on 149 samples\n",
      "if (max_power <= 172.915) and (max_power <= 147.97) and (age > 8.5) and (max_power <= 98.145) and (age > 11.5) and (age <= 14.5) and (max_power <= 62.55) and (companyname_Tata <= 0.5) then class: 450000 (proba: 100.0%) | based on 132 samples\n",
      "if (max_power <= 172.915) and (max_power <= 147.97) and (age > 8.5) and (max_power <= 98.145) and (age > 11.5) and (age > 14.5) and (max_power <= 62.05) and (max_power > 41.65) then class: 450000 (proba: 100.0%) | based on 122 samples\n",
      "if (max_power <= 172.915) and (max_power <= 147.97) and (age <= 8.5) and (max_power <= 87.0) and (max_power <= 69.505) and (engine <= 1992.0) and (engine <= 996.5) and (age > 6.5) then class: 450000 (proba: 100.0%) | based on 110 samples\n",
      "if (max_power <= 172.915) and (max_power <= 147.97) and (age <= 8.5) and (max_power <= 87.0) and (max_power > 69.505) and (age > 5.5) and (torq > 2225.0) and (engine > 1197.5) then class: 450000 (proba: 100.0%) | based on 101 samples\n",
      "if (max_power <= 172.915) and (max_power <= 147.97) and (age <= 8.5) and (max_power > 87.0) and (max_power > 117.45) and (age <= 6.5) and (max_power > 130.16) and (mileage <= 17.75) then class: 450000 (proba: 100.0%) | based on 99 samples\n",
      "if (max_power <= 172.915) and (max_power <= 147.97) and (age <= 8.5) and (max_power <= 87.0) and (max_power > 69.505) and (age > 5.5) and (torq <= 2225.0) and (age > 7.5) then class: 450000 (proba: 100.0%) | based on 97 samples\n",
      "if (max_power <= 172.915) and (max_power <= 147.97) and (age > 8.5) and (max_power <= 98.145) and (age > 11.5) and (age > 14.5) and (max_power <= 62.05) and (max_power <= 41.65) then class: 450000 (proba: 100.0%) | based on 77 samples\n",
      "if (max_power > 172.915) and (age <= 4.5) and (max_power > 185.87) and (engine > 1980.0) and (mileage > 12.145) and (max_power > 188.87) and (mileage <= 17.605) and (max_power <= 263.2) then class: 450000 (proba: 100.0%) | based on 70 samples\n",
      "if (max_power <= 172.915) and (max_power <= 147.97) and (age > 8.5) and (max_power > 98.145) and (age > 10.5) and (engine <= 2424.0) and (age > 13.5) and (engine <= 1797.0) then class: 450000 (proba: 100.0%) | based on 55 samples\n",
      "if (max_power <= 172.915) and (max_power <= 147.97) and (age > 8.5) and (max_power > 98.145) and (age <= 10.5) and (companyname_Toyota > 0.5) and (seats_8.0 <= 0.5) and (km_driven > 63864.0) then class: 450000 (proba: 100.0%) | based on 51 samples\n",
      "if (max_power <= 172.915) and (max_power <= 147.97) and (age <= 8.5) and (max_power > 87.0) and (max_power <= 117.45) and (age > 5.5) and (companyname_Toyota > 0.5) and (fuel_Petrol <= 0.5) then class: 450000 (proba: 100.0%) | based on 48 samples\n",
      "if (max_power > 172.915) and (age > 4.5) and (age <= 6.5) and (max_power <= 214.0) and (torq <= 2900.0) and (mileage <= 17.25) and (owner_Second Owner <= 0.5) and (km_driven <= 105000.0) then class: 450000 (proba: 100.0%) | based on 46 samples\n",
      "if (max_power <= 172.915) and (max_power <= 147.97) and (age > 8.5) and (max_power > 98.145) and (age > 10.5) and (engine <= 2424.0) and (age > 13.5) and (engine > 1797.0) then class: 450000 (proba: 100.0%) | based on 46 samples\n",
      "if (max_power <= 172.915) and (max_power <= 147.97) and (age > 8.5) and (max_power <= 98.145) and (age <= 11.5) and (max_power <= 73.4) and (engine > 2223.5) and (age <= 10.5) then class: 450000 (proba: 100.0%) | based on 46 samples\n",
      "if (max_power <= 172.915) and (max_power <= 147.97) and (age > 8.5) and (max_power > 98.145) and (age > 10.5) and (engine > 2424.0) and (companyname_Mahindra <= 0.5) and (age <= 13.5) then class: 450000 (proba: 100.0%) | based on 45 samples\n",
      "if (max_power <= 172.915) and (max_power <= 147.97) and (age > 8.5) and (max_power <= 98.145) and (age <= 11.5) and (max_power > 73.4) and (seats_7.0 > 0.5) and (max_power > 86.295) then class: 450000 (proba: 100.0%) | based on 42 samples\n",
      "if (max_power <= 172.915) and (max_power > 147.97) and (km_driven > 21500.0) and (age <= 8.5) and (engine > 2188.5) and (km_driven <= 72544.5) and (age <= 7.5) and (mileage > 11.975) then class: 450000 (proba: 100.0%) | based on 39 samples\n",
      "if (max_power <= 172.915) and (max_power <= 147.97) and (age <= 8.5) and (max_power > 87.0) and (max_power > 117.45) and (age > 6.5) and (companyname_Tata > 0.5) and (km_driven > 65000.0) then class: 450000 (proba: 100.0%) | based on 38 samples\n",
      "if (max_power <= 172.915) and (max_power <= 147.97) and (age <= 8.5) and (max_power <= 87.0) and (max_power <= 69.505) and (engine > 1992.0) and (age > 6.5) and (km_driven <= 124000.0) then class: 450000 (proba: 100.0%) | based on 37 samples\n",
      "if (max_power > 172.915) and (age <= 4.5) and (max_power > 185.87) and (engine > 1980.0) and (mileage > 12.145) and (max_power > 188.87) and (mileage > 17.605) and (age <= 3.5) then class: 450000 (proba: 100.0%) | based on 36 samples\n",
      "if (max_power <= 172.915) and (max_power <= 147.97) and (age > 8.5) and (max_power > 98.145) and (age <= 10.5) and (companyname_Toyota <= 0.5) and (max_power > 139.05) and (km_driven > 49850.0) then class: 450000 (proba: 100.0%) | based on 36 samples\n",
      "if (max_power > 172.915) and (age > 4.5) and (age <= 6.5) and (max_power <= 214.0) and (torq <= 2900.0) and (mileage > 17.25) and (mileage <= 22.225) and (max_power <= 182.37) then class: 450000 (proba: 100.0%) | based on 34 samples\n",
      "if (max_power <= 172.915) and (max_power <= 147.97) and (age > 8.5) and (max_power > 98.145) and (age > 10.5) and (engine > 2424.0) and (companyname_Mahindra <= 0.5) and (age > 13.5) then class: 450000 (proba: 100.0%) | based on 33 samples\n",
      "if (max_power <= 172.915) and (max_power <= 147.97) and (age > 8.5) and (max_power > 98.145) and (age > 10.5) and (engine <= 2424.0) and (age <= 13.5) and (companyname_Mahindra > 0.5) then class: 450000 (proba: 100.0%) | based on 33 samples\n",
      "if (max_power > 172.915) and (age <= 4.5) and (max_power > 185.87) and (engine <= 1980.0) and (mileage > 16.135) and (km_driven > 16000.0) and (km_driven > 18500.0) and (km_driven <= 26900.0) then class: 450000 (proba: 100.0%) | based on 32 samples\n",
      "if (max_power <= 172.915) and (max_power <= 147.97) and (age > 8.5) and (max_power <= 98.145) and (age > 11.5) and (age > 14.5) and (max_power > 62.05) and (companyname_Mahindra > 0.5) then class: 450000 (proba: 100.0%) | based on 31 samples\n",
      "if (max_power <= 172.915) and (max_power > 147.97) and (km_driven <= 21500.0) and (km_driven <= 20500.0) and (mileage <= 17.5) and (max_power <= 151.435) and (km_driven <= 9800.5) then class: 450000 (proba: 100.0%) | based on 29 samples\n",
      "if (max_power <= 172.915) and (max_power > 147.97) and (km_driven > 21500.0) and (age <= 8.5) and (engine <= 2188.5) and (torq <= 2900.0) and (age <= 5.5) and (max_power <= 154.43) then class: 450000 (proba: 100.0%) | based on 28 samples\n",
      "if (max_power <= 172.915) and (max_power <= 147.97) and (age <= 8.5) and (max_power <= 87.0) and (max_power <= 69.505) and (engine > 1992.0) and (age <= 6.5) and (km_driven <= 115000.0) then class: 450000 (proba: 100.0%) | based on 27 samples\n",
      "if (max_power <= 172.915) and (max_power <= 147.97) and (age > 8.5) and (max_power <= 98.145) and (age <= 11.5) and (max_power <= 73.4) and (engine > 2223.5) and (age > 10.5) then class: 450000 (proba: 100.0%) | based on 24 samples\n",
      "if (max_power <= 172.915) and (max_power <= 147.97) and (age > 8.5) and (max_power > 98.145) and (age > 10.5) and (engine > 2424.0) and (companyname_Mahindra > 0.5) and (owner_Third Owner <= 0.5) then class: 450000 (proba: 100.0%) | based on 23 samples\n",
      "if (max_power <= 172.915) and (max_power > 147.97) and (km_driven > 21500.0) and (age <= 8.5) and (engine <= 2188.5) and (torq <= 2900.0) and (age <= 5.5) and (max_power > 154.43) then class: 450000 (proba: 100.0%) | based on 18 samples\n",
      "if (max_power <= 172.915) and (max_power > 147.97) and (km_driven > 21500.0) and (age <= 8.5) and (engine > 2188.5) and (km_driven > 72544.5) and (max_power > 159.5) and (engine <= 2990.5) then class: 450000 (proba: 100.0%) | based on 17 samples\n",
      "if (max_power <= 172.915) and (max_power <= 147.97) and (age > 8.5) and (max_power > 98.145) and (age <= 10.5) and (companyname_Toyota > 0.5) and (seats_8.0 > 0.5) and (km_driven <= 148000.0) then class: 450000 (proba: 100.0%) | based on 16 samples\n",
      "if (max_power <= 172.915) and (max_power <= 147.97) and (age > 8.5) and (max_power <= 98.145) and (age > 11.5) and (age <= 14.5) and (max_power <= 62.55) and (companyname_Tata > 0.5) then class: 450000 (proba: 100.0%) | based on 16 samples\n",
      "if (max_power > 172.915) and (age > 4.5) and (age > 6.5) and (age > 9.5) and (fuel_Diesel > 0.5) and (age <= 12.5) and (engine <= 2599.0) and (seats_5.0 > 0.5) then class: 450000 (proba: 100.0%) | based on 15 samples\n",
      "if (max_power <= 172.915) and (max_power > 147.97) and (km_driven > 21500.0) and (age <= 8.5) and (engine > 2188.5) and (km_driven <= 72544.5) and (age <= 7.5) and (mileage <= 11.975) then class: 450000 (proba: 100.0%) | based on 14 samples\n",
      "if (max_power <= 172.915) and (max_power <= 147.97) and (age > 8.5) and (max_power <= 98.145) and (age <= 11.5) and (max_power > 73.4) and (seats_7.0 > 0.5) and (max_power <= 86.295) then class: 450000 (proba: 100.0%) | based on 12 samples\n",
      "if (max_power <= 172.915) and (max_power > 147.97) and (km_driven > 21500.0) and (age > 8.5) and (fuel_Diesel > 0.5) and (mileage > 10.7) and (owner_First Owner <= 0.5) and (torq > 2250.0) then class: 450000 (proba: 100.0%) | based on 12 samples\n",
      "if (max_power <= 172.915) and (max_power > 147.97) and (km_driven <= 21500.0) and (km_driven <= 20500.0) and (mileage <= 17.5) and (max_power > 151.435) and (km_driven > 7500.0) and (km_driven <= 18445.0) then class: 450000 (proba: 100.0%) | based on 10 samples\n",
      "if (max_power <= 172.915) and (max_power > 147.97) and (km_driven > 21500.0) and (age > 8.5) and (fuel_Diesel > 0.5) and (mileage > 10.7) and (owner_First Owner > 0.5) and (max_power > 164.8) then class: 450000 (proba: 100.0%) | based on 10 samples\n",
      "if (max_power > 172.915) and (age > 4.5) and (age > 6.5) and (age <= 9.5) and (max_power <= 202.15) and (engine <= 2189.0) and (km_driven <= 93750.0) and (companyname_Jaguar <= 0.5) then class: 450000 (proba: 100.0%) | based on 9 samples\n",
      "if (max_power <= 172.915) and (max_power <= 147.97) and (age <= 8.5) and (max_power > 87.0) and (max_power > 117.45) and (age <= 6.5) and (max_power > 130.16) and (mileage > 17.75) then class: 450000 (proba: 100.0%) | based on 9 samples\n",
      "if (max_power > 172.915) and (age > 4.5) and (age > 6.5) and (age <= 9.5) and (max_power <= 202.15) and (engine > 2189.0) and (km_driven > 39500.0) and (km_driven <= 131500.0) then class: 450000 (proba: 100.0%) | based on 8 samples\n",
      "if (max_power <= 172.915) and (max_power > 147.97) and (km_driven <= 21500.0) and (km_driven <= 20500.0) and (mileage <= 17.5) and (max_power > 151.435) and (km_driven > 7500.0) and (km_driven > 18445.0) then class: 450000 (proba: 100.0%) | based on 7 samples\n",
      "if (max_power <= 172.915) and (max_power <= 147.97) and (age > 8.5) and (max_power > 98.145) and (age <= 10.5) and (companyname_Toyota > 0.5) and (seats_8.0 > 0.5) and (km_driven > 148000.0) then class: 450000 (proba: 100.0%) | based on 7 samples\n",
      "if (max_power <= 172.915) and (max_power <= 147.97) and (age <= 8.5) and (max_power <= 87.0) and (max_power <= 69.505) and (engine > 1992.0) and (age <= 6.5) and (km_driven > 115000.0) then class: 450000 (proba: 100.0%) | based on 7 samples\n",
      "if (max_power > 172.915) and (age > 4.5) and (age > 6.5) and (age <= 9.5) and (max_power <= 202.15) and (engine > 2189.0) and (km_driven > 39500.0) and (km_driven > 131500.0) then class: 450000 (proba: 100.0%) | based on 7 samples\n",
      "if (max_power > 172.915) and (age > 4.5) and (age <= 6.5) and (max_power > 214.0) and (seats_4.0 <= 0.5) and (engine > 2990.0) and (engine > 3298.5) then class: 450000 (proba: 100.0%) | based on 6 samples\n",
      "if (max_power > 172.915) and (age <= 4.5) and (max_power > 185.87) and (engine <= 1980.0) and (mileage > 16.135) and (km_driven > 16000.0) and (km_driven > 18500.0) and (km_driven > 26900.0) then class: 450000 (proba: 100.0%) | based on 6 samples\n",
      "if (max_power <= 172.915) and (max_power > 147.97) and (km_driven > 21500.0) and (age > 8.5) and (fuel_Diesel <= 0.5) and (age <= 13.5) and (torq > 3500.0) and (km_driven > 55085.5) then class: 450000 (proba: 100.0%) | based on 5 samples\n",
      "if (max_power > 172.915) and (age > 4.5) and (age <= 6.5) and (max_power <= 214.0) and (torq <= 2900.0) and (mileage > 17.25) and (mileage <= 22.225) and (max_power > 182.37) then class: 450000 (proba: 100.0%) | based on 5 samples\n",
      "if (max_power <= 172.915) and (max_power <= 147.97) and (age <= 8.5) and (max_power <= 87.0) and (max_power <= 69.505) and (engine > 1992.0) and (age > 6.5) and (km_driven > 124000.0) then class: 450000 (proba: 100.0%) | based on 5 samples\n",
      "if (max_power > 172.915) and (age > 4.5) and (age <= 6.5) and (max_power <= 214.0) and (torq > 2900.0) and (km_driven > 31500.0) and (seller_type_Dealer > 0.5) and (companyname_Audi <= 0.5) then class: 450000 (proba: 100.0%) | based on 5 samples\n",
      "if (max_power <= 172.915) and (max_power <= 147.97) and (age <= 8.5) and (max_power > 87.0) and (max_power > 117.45) and (age > 6.5) and (companyname_Tata > 0.5) and (km_driven <= 65000.0) then class: 450000 (proba: 100.0%) | based on 5 samples\n",
      "if (max_power <= 172.915) and (max_power <= 147.97) and (age > 8.5) and (max_power > 98.145) and (age > 10.5) and (engine > 2424.0) and (companyname_Mahindra > 0.5) and (owner_Third Owner > 0.5) then class: 450000 (proba: 100.0%) | based on 4 samples\n",
      "if (max_power <= 172.915) and (max_power <= 147.97) and (age > 8.5) and (max_power > 98.145) and (age <= 10.5) and (companyname_Toyota > 0.5) and (seats_8.0 <= 0.5) and (km_driven <= 63864.0) then class: 450000 (proba: 100.0%) | based on 4 samples\n",
      "if (max_power <= 172.915) and (max_power > 147.97) and (km_driven > 21500.0) and (age > 8.5) and (fuel_Diesel > 0.5) and (mileage > 10.7) and (owner_First Owner <= 0.5) and (torq <= 2250.0) then class: 450000 (proba: 100.0%) | based on 4 samples\n",
      "if (max_power <= 172.915) and (max_power <= 147.97) and (age > 8.5) and (max_power > 98.145) and (age <= 10.5) and (companyname_Toyota <= 0.5) and (max_power > 139.05) and (km_driven <= 49850.0) then class: 450000 (proba: 100.0%) | based on 4 samples\n",
      "if (max_power <= 172.915) and (max_power > 147.97) and (km_driven > 21500.0) and (age > 8.5) and (fuel_Diesel > 0.5) and (mileage > 10.7) and (owner_First Owner > 0.5) and (max_power <= 164.8) then class: 450000 (proba: 100.0%) | based on 4 samples\n",
      "if (max_power > 172.915) and (age > 4.5) and (age <= 6.5) and (max_power <= 214.0) and (torq <= 2900.0) and (mileage > 17.25) and (mileage > 22.225) and (km_driven > 21831.5) then class: 450000 (proba: 100.0%) | based on 4 samples\n",
      "if (max_power > 172.915) and (age > 4.5) and (age > 6.5) and (age > 9.5) and (fuel_Diesel > 0.5) and (age > 12.5) and (age <= 14.5) and (max_power > 184.37) then class: 450000 (proba: 100.0%) | based on 4 samples\n",
      "if (max_power > 172.915) and (age > 4.5) and (age > 6.5) and (age > 9.5) and (fuel_Diesel > 0.5) and (age <= 12.5) and (engine <= 2599.0) and (seats_5.0 <= 0.5) then class: 450000 (proba: 100.0%) | based on 4 samples\n",
      "if (max_power > 172.915) and (age <= 4.5) and (max_power <= 185.87) and (torq <= 2900.0) and (companyname_Toyota > 0.5) and (mileage > 13.57) and (km_driven > 48000.0) then class: 450000 (proba: 100.0%) | based on 4 samples\n",
      "if (max_power <= 172.915) and (max_power > 147.97) and (km_driven <= 21500.0) and (km_driven > 20500.0) then class: 450000 (proba: 100.0%) | based on 4 samples\n",
      "if (max_power <= 172.915) and (max_power <= 147.97) and (age <= 8.5) and (max_power > 87.0) and (max_power > 117.45) and (age > 6.5) and (companyname_Tata <= 0.5) and (max_power > 141.5) then class: 450000 (proba: 100.0%) | based on 3 samples\n",
      "if (max_power <= 172.915) and (max_power > 147.97) and (km_driven > 21500.0) and (age <= 8.5) and (engine <= 2188.5) and (torq <= 2900.0) and (age > 5.5) and (km_driven <= 111300.0) then class: 450000 (proba: 100.0%) | based on 3 samples\n",
      "if (max_power > 172.915) and (age > 4.5) and (age > 6.5) and (age <= 9.5) and (max_power <= 202.15) and (engine <= 2189.0) and (km_driven <= 93750.0) and (companyname_Jaguar > 0.5) then class: 450000 (proba: 100.0%) | based on 3 samples\n",
      "if (max_power <= 172.915) and (max_power <= 147.97) and (age <= 8.5) and (max_power > 87.0) and (max_power <= 117.45) and (age <= 5.5) and (companyname_Kia > 0.5) and (mileage <= 19.3) then class: 450000 (proba: 100.0%) | based on 3 samples\n",
      "if (max_power > 172.915) and (age > 4.5) and (age > 6.5) and (age <= 9.5) and (max_power > 202.15) and (mileage <= 12.645) and (age <= 8.5) and (km_driven > 43000.0) then class: 450000 (proba: 100.0%) | based on 3 samples\n",
      "if (max_power > 172.915) and (age > 4.5) and (age > 6.5) and (age <= 9.5) and (max_power > 202.15) and (mileage > 12.645) and (age > 7.5) and (companyname_Audi <= 0.5) then class: 450000 (proba: 100.0%) | based on 3 samples\n",
      "if (max_power > 172.915) and (age > 4.5) and (age > 6.5) and (age > 9.5) and (fuel_Diesel <= 0.5) and (companyname_Mercedes-Benz <= 0.5) and (age <= 11.0) and (mileage > 13.12) then class: 450000 (proba: 100.0%) | based on 3 samples\n",
      "if (max_power <= 172.915) and (max_power <= 147.97) and (age <= 8.5) and (max_power > 87.0) and (max_power > 117.45) and (age <= 6.5) and (max_power <= 130.16) and (age <= 2.5) then class: 450000 (proba: 100.0%) | based on 3 samples\n",
      "if (max_power > 172.915) and (age > 4.5) and (age <= 6.5) and (max_power > 214.0) and (seats_4.0 <= 0.5) and (engine <= 2990.0) and (km_driven <= 58500.0) and (torq > 2000.0) then class: 450000 (proba: 100.0%) | based on 3 samples\n",
      "if (max_power <= 172.915) and (max_power > 147.97) and (km_driven <= 21500.0) and (km_driven <= 20500.0) and (mileage <= 17.5) and (max_power > 151.435) and (km_driven <= 7500.0) then class: 450000 (proba: 100.0%) | based on 2 samples\n",
      "if (max_power <= 172.915) and (max_power > 147.97) and (km_driven <= 21500.0) and (km_driven <= 20500.0) and (mileage > 17.5) then class: 450000 (proba: 100.0%) | based on 2 samples\n",
      "if (max_power <= 172.915) and (max_power <= 147.97) and (age <= 8.5) and (max_power > 87.0) and (max_power <= 117.45) and (age > 5.5) and (companyname_Toyota > 0.5) and (fuel_Petrol > 0.5) then class: 450000 (proba: 100.0%) | based on 2 samples\n",
      "if (max_power <= 172.915) and (max_power > 147.97) and (km_driven > 21500.0) and (age > 8.5) and (fuel_Diesel <= 0.5) and (age > 13.5) and (companyname_Honda <= 0.5) and (torq <= 3500.0) then class: 450000 (proba: 100.0%) | based on 2 samples\n",
      "if (max_power > 172.915) and (age <= 4.5) and (max_power > 185.87) and (engine > 1980.0) and (mileage > 12.145) and (max_power <= 188.87) and (km_driven <= 23300.0) and (km_driven <= 13550.0) then class: 450000 (proba: 100.0%) | based on 2 samples\n",
      "if (max_power > 172.915) and (age > 4.5) and (age > 6.5) and (age <= 9.5) and (max_power > 202.15) and (mileage > 12.645) and (age > 7.5) and (companyname_Audi > 0.5) then class: 450000 (proba: 100.0%) | based on 2 samples\n",
      "if (max_power > 172.915) and (age <= 4.5) and (max_power > 185.87) and (engine > 1980.0) and (mileage > 12.145) and (max_power > 188.87) and (mileage > 17.605) and (age > 3.5) then class: 450000 (proba: 100.0%) | based on 2 samples\n",
      "if (max_power > 172.915) and (age <= 4.5) and (max_power > 185.87) and (engine > 1980.0) and (mileage > 12.145) and (max_power <= 188.87) and (km_driven > 23300.0) then class: 450000 (proba: 100.0%) | based on 2 samples\n",
      "if (max_power > 172.915) and (age > 4.5) and (age <= 6.5) and (max_power <= 214.0) and (torq > 2900.0) and (km_driven <= 31500.0) and (km_driven > 19000.0) and (owner_Second Owner > 0.5) then class: 450000 (proba: 100.0%) | based on 2 samples\n",
      "if (max_power > 172.915) and (age <= 4.5) and (max_power > 185.87) and (engine > 1980.0) and (mileage <= 12.145) and (km_driven <= 23500.0) then class: 450000 (proba: 100.0%) | based on 2 samples\n",
      "if (max_power > 172.915) and (age > 4.5) and (age > 6.5) and (age <= 9.5) and (max_power <= 202.15) and (engine <= 2189.0) and (km_driven > 93750.0) and (companyname_Audi <= 0.5) then class: 450000 (proba: 100.0%) | based on 2 samples\n",
      "if (max_power > 172.915) and (age > 4.5) and (age > 6.5) and (age <= 9.5) and (max_power <= 202.15) and (engine <= 2189.0) and (km_driven > 93750.0) and (companyname_Audi > 0.5) then class: 450000 (proba: 100.0%) | based on 2 samples\n",
      "if (max_power > 172.915) and (age <= 4.5) and (max_power <= 185.87) and (torq > 2900.0) and (max_power > 182.0) then class: 450000 (proba: 100.0%) | based on 2 samples\n",
      "if (max_power > 172.915) and (age <= 4.5) and (max_power <= 185.87) and (torq > 2900.0) and (max_power <= 182.0) and (companyname_Skoda > 0.5) then class: 450000 (proba: 100.0%) | based on 2 samples\n",
      "if (max_power > 172.915) and (age <= 4.5) and (max_power <= 185.87) and (torq <= 2900.0) and (companyname_Toyota > 0.5) and (mileage > 13.57) and (km_driven <= 48000.0) and (age > 3.0) then class: 450000 (proba: 100.0%) | based on 2 samples\n",
      "if (max_power > 172.915) and (age > 4.5) and (age > 6.5) and (age <= 9.5) and (max_power <= 202.15) and (engine > 2189.0) and (km_driven <= 39500.0) then class: 450000 (proba: 100.0%) | based on 2 samples\n",
      "if (max_power > 172.915) and (age > 4.5) and (age <= 6.5) and (max_power <= 214.0) and (torq <= 2900.0) and (mileage <= 17.25) and (owner_Second Owner > 0.5) and (max_power <= 197.1) then class: 450000 (proba: 100.0%) | based on 2 samples\n",
      "if (max_power > 172.915) and (age <= 4.5) and (max_power <= 185.87) and (torq <= 2900.0) and (companyname_Toyota <= 0.5) and (torq > 2775.0) then class: 450000 (proba: 100.0%) | based on 2 samples\n",
      "if (max_power > 172.915) and (age > 4.5) and (age > 6.5) and (age <= 9.5) and (max_power > 202.15) and (mileage > 12.645) and (age <= 7.5) and (engine <= 2980.0) then class: 450000 (proba: 100.0%) | based on 2 samples\n",
      "if (max_power <= 172.915) and (max_power > 147.97) and (km_driven > 21500.0) and (age > 8.5) and (fuel_Diesel > 0.5) and (mileage <= 10.7) and (age > 10.0) and (torq > 2900.0) then class: 450000 (proba: 100.0%) | based on 2 samples\n",
      "if (max_power > 172.915) and (age > 4.5) and (age > 6.5) and (age <= 9.5) and (max_power > 202.15) and (mileage <= 12.645) and (age > 8.5) and (mileage <= 11.47) then class: 450000 (proba: 100.0%) | based on 2 samples\n",
      "if (max_power > 172.915) and (age > 4.5) and (age > 6.5) and (age > 9.5) and (fuel_Diesel <= 0.5) and (companyname_Mercedes-Benz <= 0.5) and (age > 11.0) and (engine <= 2675.5) then class: 450000 (proba: 100.0%) | based on 2 samples\n",
      "if (max_power > 172.915) and (age > 4.5) and (age > 6.5) and (age > 9.5) and (fuel_Diesel <= 0.5) and (companyname_Mercedes-Benz <= 0.5) and (age > 11.0) and (engine > 2675.5) then class: 450000 (proba: 100.0%) | based on 2 samples\n",
      "if (max_power <= 172.915) and (max_power > 147.97) and (km_driven > 21500.0) and (age > 8.5) and (fuel_Diesel <= 0.5) and (age > 13.5) and (companyname_Honda > 0.5) and (mileage <= 10.6) then class: 450000 (proba: 100.0%) | based on 2 samples\n",
      "if (max_power > 172.915) and (age > 4.5) and (age > 6.5) and (age > 9.5) and (fuel_Diesel > 0.5) and (age > 12.5) and (age <= 14.5) and (max_power <= 184.37) then class: 450000 (proba: 100.0%) | based on 2 samples\n",
      "if (max_power <= 172.915) and (max_power > 147.97) and (km_driven > 21500.0) and (age > 8.5) and (fuel_Diesel <= 0.5) and (age > 13.5) and (companyname_Honda > 0.5) and (mileage > 10.6) then class: 450000 (proba: 100.0%) | based on 2 samples\n",
      "if (max_power > 172.915) and (age > 4.5) and (age > 6.5) and (age > 9.5) and (fuel_Diesel <= 0.5) and (companyname_Mercedes-Benz > 0.5) and (age > 14.0) and (transmission_Manual <= 0.5) then class: 450000 (proba: 100.0%) | based on 2 samples\n",
      "if (max_power > 172.915) and (age > 4.5) and (age > 6.5) and (age > 9.5) and (fuel_Diesel > 0.5) and (age > 12.5) and (age > 14.5) and (owner_Fourth & Above Owner <= 0.5) then class: 450000 (proba: 100.0%) | based on 2 samples\n",
      "if (max_power > 172.915) and (age > 4.5) and (age > 6.5) and (age > 9.5) and (fuel_Diesel > 0.5) and (age <= 12.5) and (engine > 2599.0) and (engine <= 2980.0) then class: 450000 (proba: 100.0%) | based on 2 samples\n",
      "if (max_power > 172.915) and (age > 4.5) and (age > 6.5) and (age > 9.5) and (fuel_Diesel <= 0.5) and (companyname_Mercedes-Benz > 0.5) and (age <= 14.0) and (max_power <= 238.0) then class: 450000 (proba: 100.0%) | based on 2 samples\n",
      "if (max_power > 172.915) and (age > 4.5) and (age > 6.5) and (age > 9.5) and (fuel_Diesel <= 0.5) and (companyname_Mercedes-Benz > 0.5) and (age > 14.0) and (transmission_Manual > 0.5) then class: 450000 (proba: 100.0%) | based on 1 samples\n",
      "if (max_power > 172.915) and (age > 4.5) and (age > 6.5) and (age <= 9.5) and (max_power > 202.15) and (mileage > 12.645) and (age <= 7.5) and (engine > 2980.0) then class: 450000 (proba: 100.0%) | based on 1 samples\n",
      "if (max_power > 172.915) and (age > 4.5) and (age <= 6.5) and (max_power <= 214.0) and (torq > 2900.0) and (km_driven <= 31500.0) and (km_driven > 19000.0) and (owner_Second Owner <= 0.5) then class: 450000 (proba: 100.0%) | based on 1 samples\n",
      "if (max_power > 172.915) and (age > 4.5) and (age <= 6.5) and (max_power <= 214.0) and (torq > 2900.0) and (km_driven > 31500.0) and (seller_type_Dealer > 0.5) and (companyname_Audi > 0.5) then class: 450000 (proba: 100.0%) | based on 1 samples\n",
      "if (max_power > 172.915) and (age > 4.5) and (age <= 6.5) and (max_power <= 214.0) and (torq > 2900.0) and (km_driven <= 31500.0) and (km_driven <= 19000.0) then class: 450000 (proba: 100.0%) | based on 1 samples\n",
      "if (max_power > 172.915) and (age > 4.5) and (age > 6.5) and (age > 9.5) and (fuel_Diesel > 0.5) and (age <= 12.5) and (engine > 2599.0) and (engine > 2980.0) then class: 450000 (proba: 100.0%) | based on 1 samples\n",
      "if (max_power > 172.915) and (age > 4.5) and (age <= 6.5) and (max_power <= 214.0) and (torq <= 2900.0) and (mileage > 17.25) and (mileage > 22.225) and (km_driven <= 21831.5) then class: 450000 (proba: 100.0%) | based on 1 samples\n",
      "if (max_power > 172.915) and (age > 4.5) and (age <= 6.5) and (max_power <= 214.0) and (torq > 2900.0) and (km_driven > 31500.0) and (seller_type_Dealer <= 0.5) then class: 450000 (proba: 100.0%) | based on 1 samples\n",
      "if (max_power > 172.915) and (age > 4.5) and (age <= 6.5) and (max_power > 214.0) and (seats_4.0 > 0.5) then class: 450000 (proba: 100.0%) | based on 1 samples\n",
      "if (max_power > 172.915) and (age > 4.5) and (age <= 6.5) and (max_power > 214.0) and (seats_4.0 <= 0.5) and (engine <= 2990.0) and (km_driven <= 58500.0) and (torq <= 2000.0) then class: 450000 (proba: 100.0%) | based on 1 samples\n",
      "if (max_power > 172.915) and (age > 4.5) and (age <= 6.5) and (max_power > 214.0) and (seats_4.0 <= 0.5) and (engine <= 2990.0) and (km_driven > 58500.0) then class: 450000 (proba: 100.0%) | based on 1 samples\n",
      "if (max_power > 172.915) and (age > 4.5) and (age <= 6.5) and (max_power > 214.0) and (seats_4.0 <= 0.5) and (engine > 2990.0) and (engine <= 3298.5) then class: 450000 (proba: 100.0%) | based on 1 samples\n",
      "if (max_power > 172.915) and (age > 4.5) and (age > 6.5) and (age > 9.5) and (fuel_Diesel <= 0.5) and (companyname_Mercedes-Benz > 0.5) and (age <= 14.0) and (max_power > 238.0) then class: 450000 (proba: 100.0%) | based on 1 samples\n",
      "if (max_power <= 172.915) and (max_power <= 147.97) and (age <= 8.5) and (max_power > 87.0) and (max_power <= 117.45) and (age <= 5.5) and (companyname_Kia > 0.5) and (mileage > 19.3) then class: 450000 (proba: 100.0%) | based on 1 samples\n",
      "if (max_power > 172.915) and (age > 4.5) and (age > 6.5) and (age <= 9.5) and (max_power > 202.15) and (mileage <= 12.645) and (age <= 8.5) and (km_driven <= 43000.0) then class: 450000 (proba: 100.0%) | based on 1 samples\n",
      "if (max_power > 172.915) and (age > 4.5) and (age > 6.5) and (age > 9.5) and (fuel_Diesel <= 0.5) and (companyname_Mercedes-Benz <= 0.5) and (age <= 11.0) and (mileage <= 13.12) then class: 450000 (proba: 100.0%) | based on 1 samples\n",
      "if (max_power <= 172.915) and (max_power <= 147.97) and (age <= 8.5) and (max_power <= 87.0) and (max_power > 69.505) and (age <= 5.5) and (engine > 1223.5) and (companyname_BMW > 0.5) then class: 450000 (proba: 100.0%) | based on 1 samples\n",
      "if (max_power > 172.915) and (age > 4.5) and (age > 6.5) and (age <= 9.5) and (max_power > 202.15) and (mileage <= 12.645) and (age > 8.5) and (mileage > 11.47) then class: 450000 (proba: 100.0%) | based on 1 samples\n",
      "if (max_power > 172.915) and (age > 4.5) and (age <= 6.5) and (max_power <= 214.0) and (torq <= 2900.0) and (mileage <= 17.25) and (owner_Second Owner > 0.5) and (max_power > 197.1) then class: 450000 (proba: 100.0%) | based on 1 samples\n",
      "if (max_power <= 172.915) and (max_power > 147.97) and (km_driven > 21500.0) and (age <= 8.5) and (engine > 2188.5) and (km_driven <= 72544.5) and (age > 7.5) and (km_driven <= 45000.0) then class: 450000 (proba: 100.0%) | based on 1 samples\n",
      "if (max_power > 172.915) and (age > 4.5) and (age <= 6.5) and (max_power <= 214.0) and (torq <= 2900.0) and (mileage <= 17.25) and (owner_Second Owner <= 0.5) and (km_driven > 105000.0) then class: 450000 (proba: 100.0%) | based on 1 samples\n",
      "if (max_power > 172.915) and (age <= 4.5) and (max_power <= 185.87) and (torq <= 2900.0) and (companyname_Toyota <= 0.5) and (torq <= 2775.0) and (companyname_BMW > 0.5) then class: 450000 (proba: 100.0%) | based on 1 samples\n",
      "if (max_power <= 172.915) and (max_power > 147.97) and (km_driven > 21500.0) and (age <= 8.5) and (engine <= 2188.5) and (torq > 2900.0) and (age <= 5.0) and (companyname_Skoda > 0.5) then class: 450000 (proba: 100.0%) | based on 1 samples\n",
      "if (max_power <= 172.915) and (max_power > 147.97) and (km_driven > 21500.0) and (age <= 8.5) and (engine <= 2188.5) and (torq > 2900.0) and (age <= 5.0) and (companyname_Skoda <= 0.5) then class: 450000 (proba: 100.0%) | based on 1 samples\n",
      "if (max_power <= 172.915) and (max_power > 147.97) and (km_driven > 21500.0) and (age <= 8.5) and (engine <= 2188.5) and (torq <= 2900.0) and (age > 5.5) and (km_driven > 111300.0) then class: 450000 (proba: 100.0%) | based on 1 samples\n",
      "if (max_power <= 172.915) and (max_power > 147.97) and (km_driven > 21500.0) and (age <= 8.5) and (engine > 2188.5) and (km_driven <= 72544.5) and (age > 7.5) and (km_driven > 45000.0) then class: 450000 (proba: 100.0%) | based on 1 samples\n",
      "if (max_power <= 172.915) and (max_power > 147.97) and (km_driven > 21500.0) and (age <= 8.5) and (engine > 2188.5) and (km_driven > 72544.5) and (max_power <= 159.5) then class: 450000 (proba: 100.0%) | based on 1 samples\n",
      "if (max_power <= 172.915) and (max_power > 147.97) and (km_driven > 21500.0) and (age <= 8.5) and (engine > 2188.5) and (km_driven > 72544.5) and (max_power > 159.5) and (engine > 2990.5) then class: 450000 (proba: 100.0%) | based on 1 samples\n",
      "if (max_power <= 172.915) and (max_power > 147.97) and (km_driven > 21500.0) and (age > 8.5) and (fuel_Diesel <= 0.5) and (age <= 13.5) and (torq <= 3500.0) and (engine <= 2139.0) then class: 450000 (proba: 100.0%) | based on 1 samples\n",
      "if (max_power <= 172.915) and (max_power > 147.97) and (km_driven > 21500.0) and (age > 8.5) and (fuel_Diesel <= 0.5) and (age <= 13.5) and (torq <= 3500.0) and (engine > 2139.0) then class: 450000 (proba: 100.0%) | based on 1 samples\n",
      "if (max_power <= 172.915) and (max_power > 147.97) and (km_driven > 21500.0) and (age > 8.5) and (fuel_Diesel <= 0.5) and (age <= 13.5) and (torq > 3500.0) and (km_driven <= 55085.5) then class: 450000 (proba: 100.0%) | based on 1 samples\n",
      "if (max_power <= 172.915) and (max_power > 147.97) and (km_driven > 21500.0) and (age > 8.5) and (fuel_Diesel <= 0.5) and (age > 13.5) and (companyname_Honda <= 0.5) and (torq > 3500.0) then class: 450000 (proba: 100.0%) | based on 1 samples\n",
      "if (max_power <= 172.915) and (max_power > 147.97) and (km_driven <= 21500.0) and (km_driven <= 20500.0) and (mileage <= 17.5) and (max_power <= 151.435) and (km_driven > 9800.5) then class: 450000 (proba: 100.0%) | based on 1 samples\n",
      "if (max_power <= 172.915) and (max_power > 147.97) and (km_driven > 21500.0) and (age > 8.5) and (fuel_Diesel > 0.5) and (mileage <= 10.7) and (age <= 10.0) then class: 450000 (proba: 100.0%) | based on 1 samples\n",
      "if (max_power <= 172.915) and (max_power > 147.97) and (km_driven > 21500.0) and (age > 8.5) and (fuel_Diesel > 0.5) and (mileage <= 10.7) and (age > 10.0) and (torq <= 2900.0) then class: 450000 (proba: 100.0%) | based on 1 samples\n",
      "if (max_power > 172.915) and (age <= 4.5) and (max_power <= 185.87) and (torq <= 2900.0) and (companyname_Toyota <= 0.5) and (torq <= 2775.0) and (companyname_BMW <= 0.5) then class: 450000 (proba: 100.0%) | based on 1 samples\n",
      "if (max_power > 172.915) and (age <= 4.5) and (max_power <= 185.87) and (torq <= 2900.0) and (companyname_Toyota > 0.5) and (mileage <= 13.57) and (km_driven <= 74500.0) then class: 450000 (proba: 100.0%) | based on 1 samples\n",
      "if (max_power > 172.915) and (age <= 4.5) and (max_power > 185.87) and (engine > 1980.0) and (mileage > 12.145) and (max_power > 188.87) and (mileage <= 17.605) and (max_power > 263.2) then class: 450000 (proba: 100.0%) | based on 1 samples\n",
      "if (max_power > 172.915) and (age <= 4.5) and (max_power <= 185.87) and (torq <= 2900.0) and (companyname_Toyota > 0.5) and (mileage <= 13.57) and (km_driven > 74500.0) then class: 450000 (proba: 100.0%) | based on 1 samples\n",
      "if (max_power > 172.915) and (age <= 4.5) and (max_power <= 185.87) and (torq <= 2900.0) and (companyname_Toyota > 0.5) and (mileage > 13.57) and (km_driven <= 48000.0) and (age <= 3.0) then class: 450000 (proba: 100.0%) | based on 1 samples\n",
      "if (max_power > 172.915) and (age <= 4.5) and (max_power <= 185.87) and (torq > 2900.0) and (max_power <= 182.0) and (companyname_Skoda <= 0.5) then class: 450000 (proba: 100.0%) | based on 1 samples\n",
      "if (max_power > 172.915) and (age <= 4.5) and (max_power > 185.87) and (engine <= 1980.0) and (mileage <= 16.135) and (seller_type_Dealer <= 0.5) then class: 450000 (proba: 100.0%) | based on 1 samples\n",
      "if (max_power <= 172.915) and (max_power <= 147.97) and (age > 8.5) and (max_power > 98.145) and (age <= 10.5) and (companyname_Toyota <= 0.5) and (max_power <= 139.05) and (mileage <= 5.785) then class: 450000 (proba: 100.0%) | based on 1 samples\n",
      "if (max_power > 172.915) and (age <= 4.5) and (max_power > 185.87) and (engine <= 1980.0) and (mileage <= 16.135) and (seller_type_Dealer > 0.5) and (km_driven <= 17550.0) and (km_driven <= 9650.0) then class: 450000 (proba: 100.0%) | based on 1 samples\n",
      "if (max_power > 172.915) and (age <= 4.5) and (max_power > 185.87) and (engine <= 1980.0) and (mileage <= 16.135) and (seller_type_Dealer > 0.5) and (km_driven <= 17550.0) and (km_driven > 9650.0) then class: 450000 (proba: 100.0%) | based on 1 samples\n",
      "if (max_power > 172.915) and (age <= 4.5) and (max_power > 185.87) and (engine <= 1980.0) and (mileage <= 16.135) and (seller_type_Dealer > 0.5) and (km_driven > 17550.0) then class: 450000 (proba: 100.0%) | based on 1 samples\n",
      "if (max_power > 172.915) and (age <= 4.5) and (max_power > 185.87) and (engine <= 1980.0) and (mileage > 16.135) and (km_driven <= 16000.0) then class: 450000 (proba: 100.0%) | based on 1 samples\n",
      "if (max_power <= 172.915) and (max_power <= 147.97) and (age > 8.5) and (max_power <= 98.145) and (age > 11.5) and (age <= 14.5) and (max_power > 62.55) and (companyname_BMW > 0.5) then class: 450000 (proba: 100.0%) | based on 1 samples\n",
      "if (max_power > 172.915) and (age <= 4.5) and (max_power > 185.87) and (engine <= 1980.0) and (mileage > 16.135) and (km_driven > 16000.0) and (km_driven <= 18500.0) then class: 450000 (proba: 100.0%) | based on 1 samples\n",
      "if (max_power > 172.915) and (age <= 4.5) and (max_power > 185.87) and (engine > 1980.0) and (mileage <= 12.145) and (km_driven > 23500.0) then class: 450000 (proba: 100.0%) | based on 1 samples\n",
      "if (max_power <= 172.915) and (max_power > 147.97) and (km_driven > 21500.0) and (age <= 8.5) and (engine <= 2188.5) and (torq > 2900.0) and (age > 5.0) then class: 450000 (proba: 100.0%) | based on 1 samples\n",
      "if (max_power > 172.915) and (age <= 4.5) and (max_power > 185.87) and (engine > 1980.0) and (mileage > 12.145) and (max_power <= 188.87) and (km_driven <= 23300.0) and (km_driven > 13550.0) then class: 450000 (proba: 100.0%) | based on 1 samples\n",
      "if (max_power > 172.915) and (age > 4.5) and (age > 6.5) and (age > 9.5) and (fuel_Diesel > 0.5) and (age > 12.5) and (age > 14.5) and (owner_Fourth & Above Owner > 0.5) then class: 450000 (proba: 100.0%) | based on 1 samples\n"
     ]
    }
   ],
   "source": [
    "rules = get_rules(treemodel,X.columns,y)\n",
    "for r in rules:\n",
    "    print(r)"
   ]
  },
  {
   "cell_type": "code",
   "execution_count": 149,
   "id": "5330e10d",
   "metadata": {},
   "outputs": [
    {
     "data": {
      "text/html": [
       "<div>\n",
       "<style scoped>\n",
       "    .dataframe tbody tr th:only-of-type {\n",
       "        vertical-align: middle;\n",
       "    }\n",
       "\n",
       "    .dataframe tbody tr th {\n",
       "        vertical-align: top;\n",
       "    }\n",
       "\n",
       "    .dataframe thead th {\n",
       "        text-align: right;\n",
       "    }\n",
       "</style>\n",
       "<table border=\"1\" class=\"dataframe\">\n",
       "  <thead>\n",
       "    <tr style=\"text-align: right;\">\n",
       "      <th></th>\n",
       "      <th>0</th>\n",
       "    </tr>\n",
       "  </thead>\n",
       "  <tbody>\n",
       "    <tr>\n",
       "      <th>0.743648</th>\n",
       "      <td>max_power</td>\n",
       "    </tr>\n",
       "    <tr>\n",
       "      <th>0.195503</th>\n",
       "      <td>age</td>\n",
       "    </tr>\n",
       "    <tr>\n",
       "      <th>0.015930</th>\n",
       "      <td>engine</td>\n",
       "    </tr>\n",
       "    <tr>\n",
       "      <th>0.015136</th>\n",
       "      <td>km_driven</td>\n",
       "    </tr>\n",
       "    <tr>\n",
       "      <th>0.013924</th>\n",
       "      <td>mileage</td>\n",
       "    </tr>\n",
       "    <tr>\n",
       "      <th>0.005071</th>\n",
       "      <td>seats_4.0</td>\n",
       "    </tr>\n",
       "    <tr>\n",
       "      <th>0.003668</th>\n",
       "      <td>torq</td>\n",
       "    </tr>\n",
       "    <tr>\n",
       "      <th>0.002198</th>\n",
       "      <td>companyname_Toyota</td>\n",
       "    </tr>\n",
       "    <tr>\n",
       "      <th>0.001277</th>\n",
       "      <td>fuel_Diesel</td>\n",
       "    </tr>\n",
       "    <tr>\n",
       "      <th>0.000757</th>\n",
       "      <td>companyname_Tata</td>\n",
       "    </tr>\n",
       "    <tr>\n",
       "      <th>0.000499</th>\n",
       "      <td>companyname_BMW</td>\n",
       "    </tr>\n",
       "    <tr>\n",
       "      <th>0.000392</th>\n",
       "      <td>companyname_Kia</td>\n",
       "    </tr>\n",
       "    <tr>\n",
       "      <th>0.000378</th>\n",
       "      <td>owner_Second Owner</td>\n",
       "    </tr>\n",
       "    <tr>\n",
       "      <th>0.000373</th>\n",
       "      <td>companyname_Mahindra</td>\n",
       "    </tr>\n",
       "    <tr>\n",
       "      <th>0.000280</th>\n",
       "      <td>seats_7.0</td>\n",
       "    </tr>\n",
       "    <tr>\n",
       "      <th>0.000219</th>\n",
       "      <td>seller_type_Dealer</td>\n",
       "    </tr>\n",
       "    <tr>\n",
       "      <th>0.000214</th>\n",
       "      <td>companyname_Jaguar</td>\n",
       "    </tr>\n",
       "    <tr>\n",
       "      <th>0.000156</th>\n",
       "      <td>owner_First Owner</td>\n",
       "    </tr>\n",
       "    <tr>\n",
       "      <th>0.000114</th>\n",
       "      <td>fuel_Petrol</td>\n",
       "    </tr>\n",
       "    <tr>\n",
       "      <th>0.000103</th>\n",
       "      <td>companyname_Mercedes-Benz</td>\n",
       "    </tr>\n",
       "    <tr>\n",
       "      <th>0.000047</th>\n",
       "      <td>seats_5.0</td>\n",
       "    </tr>\n",
       "    <tr>\n",
       "      <th>0.000044</th>\n",
       "      <td>seats_8.0</td>\n",
       "    </tr>\n",
       "    <tr>\n",
       "      <th>0.000017</th>\n",
       "      <td>companyname_Skoda</td>\n",
       "    </tr>\n",
       "    <tr>\n",
       "      <th>0.000014</th>\n",
       "      <td>companyname_Honda</td>\n",
       "    </tr>\n",
       "    <tr>\n",
       "      <th>0.000014</th>\n",
       "      <td>companyname_Audi</td>\n",
       "    </tr>\n",
       "    <tr>\n",
       "      <th>0.000011</th>\n",
       "      <td>owner_Fourth &amp; Above Owner</td>\n",
       "    </tr>\n",
       "    <tr>\n",
       "      <th>0.000009</th>\n",
       "      <td>owner_Third Owner</td>\n",
       "    </tr>\n",
       "    <tr>\n",
       "      <th>0.000005</th>\n",
       "      <td>transmission_Manual</td>\n",
       "    </tr>\n",
       "    <tr>\n",
       "      <th>0.000000</th>\n",
       "      <td>companyname_Nissan</td>\n",
       "    </tr>\n",
       "    <tr>\n",
       "      <th>0.000000</th>\n",
       "      <td>companyname_Isuzu</td>\n",
       "    </tr>\n",
       "    <tr>\n",
       "      <th>0.000000</th>\n",
       "      <td>companyname_Mitsubishi</td>\n",
       "    </tr>\n",
       "    <tr>\n",
       "      <th>0.000000</th>\n",
       "      <td>companyname_Maruti</td>\n",
       "    </tr>\n",
       "    <tr>\n",
       "      <th>0.000000</th>\n",
       "      <td>companyname_Peugeot</td>\n",
       "    </tr>\n",
       "    <tr>\n",
       "      <th>0.000000</th>\n",
       "      <td>companyname_MG</td>\n",
       "    </tr>\n",
       "    <tr>\n",
       "      <th>0.000000</th>\n",
       "      <td>companyname_Lexus</td>\n",
       "    </tr>\n",
       "    <tr>\n",
       "      <th>0.000000</th>\n",
       "      <td>companyname_Land</td>\n",
       "    </tr>\n",
       "    <tr>\n",
       "      <th>0.000000</th>\n",
       "      <td>companyname_Renault</td>\n",
       "    </tr>\n",
       "    <tr>\n",
       "      <th>0.000000</th>\n",
       "      <td>companyname_Jeep</td>\n",
       "    </tr>\n",
       "    <tr>\n",
       "      <th>0.000000</th>\n",
       "      <td>companyname_Volkswagen</td>\n",
       "    </tr>\n",
       "    <tr>\n",
       "      <th>0.000000</th>\n",
       "      <td>companyname_Opel</td>\n",
       "    </tr>\n",
       "    <tr>\n",
       "      <th>0.000000</th>\n",
       "      <td>companyname_Ashok</td>\n",
       "    </tr>\n",
       "    <tr>\n",
       "      <th>0.000000</th>\n",
       "      <td>companyname_Hyundai</td>\n",
       "    </tr>\n",
       "    <tr>\n",
       "      <th>0.000000</th>\n",
       "      <td>companyname_Ford</td>\n",
       "    </tr>\n",
       "    <tr>\n",
       "      <th>0.000000</th>\n",
       "      <td>fuel_CNG</td>\n",
       "    </tr>\n",
       "    <tr>\n",
       "      <th>0.000000</th>\n",
       "      <td>fuel_LPG</td>\n",
       "    </tr>\n",
       "    <tr>\n",
       "      <th>0.000000</th>\n",
       "      <td>seller_type_Individual</td>\n",
       "    </tr>\n",
       "    <tr>\n",
       "      <th>0.000000</th>\n",
       "      <td>seller_type_Trustmark Dealer</td>\n",
       "    </tr>\n",
       "    <tr>\n",
       "      <th>0.000000</th>\n",
       "      <td>transmission_Automatic</td>\n",
       "    </tr>\n",
       "    <tr>\n",
       "      <th>0.000000</th>\n",
       "      <td>owner_Test Drive Car</td>\n",
       "    </tr>\n",
       "    <tr>\n",
       "      <th>0.000000</th>\n",
       "      <td>seats_2.0</td>\n",
       "    </tr>\n",
       "    <tr>\n",
       "      <th>0.000000</th>\n",
       "      <td>seats_6.0</td>\n",
       "    </tr>\n",
       "    <tr>\n",
       "      <th>0.000000</th>\n",
       "      <td>seats_9.0</td>\n",
       "    </tr>\n",
       "    <tr>\n",
       "      <th>0.000000</th>\n",
       "      <td>seats_10.0</td>\n",
       "    </tr>\n",
       "    <tr>\n",
       "      <th>0.000000</th>\n",
       "      <td>seats_14.0</td>\n",
       "    </tr>\n",
       "    <tr>\n",
       "      <th>0.000000</th>\n",
       "      <td>companyname_Ambassador</td>\n",
       "    </tr>\n",
       "    <tr>\n",
       "      <th>0.000000</th>\n",
       "      <td>companyname_Chevrolet</td>\n",
       "    </tr>\n",
       "    <tr>\n",
       "      <th>0.000000</th>\n",
       "      <td>companyname_Daewoo</td>\n",
       "    </tr>\n",
       "    <tr>\n",
       "      <th>0.000000</th>\n",
       "      <td>companyname_Datsun</td>\n",
       "    </tr>\n",
       "    <tr>\n",
       "      <th>0.000000</th>\n",
       "      <td>companyname_Fiat</td>\n",
       "    </tr>\n",
       "    <tr>\n",
       "      <th>0.000000</th>\n",
       "      <td>companyname_Force</td>\n",
       "    </tr>\n",
       "    <tr>\n",
       "      <th>0.000000</th>\n",
       "      <td>companyname_Volvo</td>\n",
       "    </tr>\n",
       "  </tbody>\n",
       "</table>\n",
       "</div>"
      ],
      "text/plain": [
       "                                     0\n",
       "0.743648                     max_power\n",
       "0.195503                           age\n",
       "0.015930                        engine\n",
       "0.015136                     km_driven\n",
       "0.013924                       mileage\n",
       "0.005071                     seats_4.0\n",
       "0.003668                          torq\n",
       "0.002198            companyname_Toyota\n",
       "0.001277                   fuel_Diesel\n",
       "0.000757              companyname_Tata\n",
       "0.000499               companyname_BMW\n",
       "0.000392               companyname_Kia\n",
       "0.000378            owner_Second Owner\n",
       "0.000373          companyname_Mahindra\n",
       "0.000280                     seats_7.0\n",
       "0.000219            seller_type_Dealer\n",
       "0.000214            companyname_Jaguar\n",
       "0.000156             owner_First Owner\n",
       "0.000114                   fuel_Petrol\n",
       "0.000103     companyname_Mercedes-Benz\n",
       "0.000047                     seats_5.0\n",
       "0.000044                     seats_8.0\n",
       "0.000017             companyname_Skoda\n",
       "0.000014             companyname_Honda\n",
       "0.000014              companyname_Audi\n",
       "0.000011    owner_Fourth & Above Owner\n",
       "0.000009             owner_Third Owner\n",
       "0.000005           transmission_Manual\n",
       "0.000000            companyname_Nissan\n",
       "0.000000             companyname_Isuzu\n",
       "0.000000        companyname_Mitsubishi\n",
       "0.000000            companyname_Maruti\n",
       "0.000000           companyname_Peugeot\n",
       "0.000000                companyname_MG\n",
       "0.000000             companyname_Lexus\n",
       "0.000000              companyname_Land\n",
       "0.000000           companyname_Renault\n",
       "0.000000              companyname_Jeep\n",
       "0.000000        companyname_Volkswagen\n",
       "0.000000              companyname_Opel\n",
       "0.000000             companyname_Ashok\n",
       "0.000000           companyname_Hyundai\n",
       "0.000000              companyname_Ford\n",
       "0.000000                      fuel_CNG\n",
       "0.000000                      fuel_LPG\n",
       "0.000000        seller_type_Individual\n",
       "0.000000  seller_type_Trustmark Dealer\n",
       "0.000000        transmission_Automatic\n",
       "0.000000          owner_Test Drive Car\n",
       "0.000000                     seats_2.0\n",
       "0.000000                     seats_6.0\n",
       "0.000000                     seats_9.0\n",
       "0.000000                    seats_10.0\n",
       "0.000000                    seats_14.0\n",
       "0.000000        companyname_Ambassador\n",
       "0.000000         companyname_Chevrolet\n",
       "0.000000            companyname_Daewoo\n",
       "0.000000            companyname_Datsun\n",
       "0.000000              companyname_Fiat\n",
       "0.000000             companyname_Force\n",
       "0.000000             companyname_Volvo"
      ]
     },
     "execution_count": 149,
     "metadata": {},
     "output_type": "execute_result"
    }
   ],
   "source": [
    "pd.DataFrame(X.columns,treemodel.feature_importances_,).sort_index(ascending=False)"
   ]
  },
  {
   "cell_type": "code",
   "execution_count": 150,
   "id": "918f2f83",
   "metadata": {},
   "outputs": [],
   "source": [
    "from sklearn.ensemble import RandomForestRegressor"
   ]
  },
  {
   "cell_type": "code",
   "execution_count": 151,
   "id": "035bbe85",
   "metadata": {},
   "outputs": [],
   "source": [
    "RF=RandomForestRegressor(n_estimators=1000).fit(X,y)"
   ]
  },
  {
   "cell_type": "code",
   "execution_count": 152,
   "id": "b162b08b",
   "metadata": {},
   "outputs": [
    {
     "data": {
      "text/plain": [
       "0.9958679959546766"
      ]
     },
     "execution_count": 152,
     "metadata": {},
     "output_type": "execute_result"
    }
   ],
   "source": [
    "RF.score(X,y)"
   ]
  },
  {
   "cell_type": "code",
   "execution_count": 153,
   "id": "edc64892",
   "metadata": {},
   "outputs": [],
   "source": [
    "RFpredict=RF.predict(X)"
   ]
  },
  {
   "cell_type": "code",
   "execution_count": 154,
   "id": "8319467d",
   "metadata": {},
   "outputs": [],
   "source": [
    "RFresid=y-RFpredict"
   ]
  },
  {
   "cell_type": "code",
   "execution_count": 155,
   "id": "c1936699",
   "metadata": {},
   "outputs": [
    {
     "data": {
      "text/plain": [
       "51823.31764794151"
      ]
     },
     "execution_count": 155,
     "metadata": {},
     "output_type": "execute_result"
    }
   ],
   "source": [
    "np.sqrt(np.mean(RFresid**2))"
   ]
  },
  {
   "cell_type": "code",
   "execution_count": 158,
   "id": "bae97ea6",
   "metadata": {},
   "outputs": [
    {
     "data": {
      "text/html": [
       "<div>\n",
       "<style scoped>\n",
       "    .dataframe tbody tr th:only-of-type {\n",
       "        vertical-align: middle;\n",
       "    }\n",
       "\n",
       "    .dataframe tbody tr th {\n",
       "        vertical-align: top;\n",
       "    }\n",
       "\n",
       "    .dataframe thead th {\n",
       "        text-align: right;\n",
       "    }\n",
       "</style>\n",
       "<table border=\"1\" class=\"dataframe\">\n",
       "  <thead>\n",
       "    <tr style=\"text-align: right;\">\n",
       "      <th></th>\n",
       "      <th>0</th>\n",
       "    </tr>\n",
       "  </thead>\n",
       "  <tbody>\n",
       "    <tr>\n",
       "      <th>max_power</th>\n",
       "      <td>0.72</td>\n",
       "    </tr>\n",
       "    <tr>\n",
       "      <th>age</th>\n",
       "      <td>0.20</td>\n",
       "    </tr>\n",
       "    <tr>\n",
       "      <th>km_driven</th>\n",
       "      <td>0.02</td>\n",
       "    </tr>\n",
       "    <tr>\n",
       "      <th>engine</th>\n",
       "      <td>0.01</td>\n",
       "    </tr>\n",
       "    <tr>\n",
       "      <th>torq</th>\n",
       "      <td>0.01</td>\n",
       "    </tr>\n",
       "    <tr>\n",
       "      <th>mileage</th>\n",
       "      <td>0.01</td>\n",
       "    </tr>\n",
       "    <tr>\n",
       "      <th>companyname_Hyundai</th>\n",
       "      <td>0.00</td>\n",
       "    </tr>\n",
       "    <tr>\n",
       "      <th>companyname_Kia</th>\n",
       "      <td>0.00</td>\n",
       "    </tr>\n",
       "    <tr>\n",
       "      <th>companyname_Jeep</th>\n",
       "      <td>0.00</td>\n",
       "    </tr>\n",
       "    <tr>\n",
       "      <th>companyname_Jaguar</th>\n",
       "      <td>0.00</td>\n",
       "    </tr>\n",
       "    <tr>\n",
       "      <th>companyname_Isuzu</th>\n",
       "      <td>0.00</td>\n",
       "    </tr>\n",
       "    <tr>\n",
       "      <th>companyname_Force</th>\n",
       "      <td>0.00</td>\n",
       "    </tr>\n",
       "    <tr>\n",
       "      <th>companyname_Honda</th>\n",
       "      <td>0.00</td>\n",
       "    </tr>\n",
       "    <tr>\n",
       "      <th>companyname_Ford</th>\n",
       "      <td>0.00</td>\n",
       "    </tr>\n",
       "    <tr>\n",
       "      <th>companyname_Lexus</th>\n",
       "      <td>0.00</td>\n",
       "    </tr>\n",
       "    <tr>\n",
       "      <th>companyname_Fiat</th>\n",
       "      <td>0.00</td>\n",
       "    </tr>\n",
       "    <tr>\n",
       "      <th>companyname_Datsun</th>\n",
       "      <td>0.00</td>\n",
       "    </tr>\n",
       "    <tr>\n",
       "      <th>companyname_Land</th>\n",
       "      <td>0.00</td>\n",
       "    </tr>\n",
       "    <tr>\n",
       "      <th>companyname_Maruti</th>\n",
       "      <td>0.00</td>\n",
       "    </tr>\n",
       "    <tr>\n",
       "      <th>companyname_MG</th>\n",
       "      <td>0.00</td>\n",
       "    </tr>\n",
       "    <tr>\n",
       "      <th>companyname_Mahindra</th>\n",
       "      <td>0.00</td>\n",
       "    </tr>\n",
       "    <tr>\n",
       "      <th>companyname_Chevrolet</th>\n",
       "      <td>0.00</td>\n",
       "    </tr>\n",
       "    <tr>\n",
       "      <th>companyname_Mercedes-Benz</th>\n",
       "      <td>0.00</td>\n",
       "    </tr>\n",
       "    <tr>\n",
       "      <th>companyname_Mitsubishi</th>\n",
       "      <td>0.00</td>\n",
       "    </tr>\n",
       "    <tr>\n",
       "      <th>companyname_Nissan</th>\n",
       "      <td>0.00</td>\n",
       "    </tr>\n",
       "    <tr>\n",
       "      <th>companyname_Opel</th>\n",
       "      <td>0.00</td>\n",
       "    </tr>\n",
       "    <tr>\n",
       "      <th>companyname_Peugeot</th>\n",
       "      <td>0.00</td>\n",
       "    </tr>\n",
       "    <tr>\n",
       "      <th>companyname_Renault</th>\n",
       "      <td>0.00</td>\n",
       "    </tr>\n",
       "    <tr>\n",
       "      <th>companyname_Skoda</th>\n",
       "      <td>0.00</td>\n",
       "    </tr>\n",
       "    <tr>\n",
       "      <th>companyname_Tata</th>\n",
       "      <td>0.00</td>\n",
       "    </tr>\n",
       "    <tr>\n",
       "      <th>companyname_Toyota</th>\n",
       "      <td>0.00</td>\n",
       "    </tr>\n",
       "    <tr>\n",
       "      <th>companyname_Volkswagen</th>\n",
       "      <td>0.00</td>\n",
       "    </tr>\n",
       "    <tr>\n",
       "      <th>companyname_Daewoo</th>\n",
       "      <td>0.00</td>\n",
       "    </tr>\n",
       "    <tr>\n",
       "      <th>companyname_Ashok</th>\n",
       "      <td>0.00</td>\n",
       "    </tr>\n",
       "    <tr>\n",
       "      <th>companyname_BMW</th>\n",
       "      <td>0.00</td>\n",
       "    </tr>\n",
       "    <tr>\n",
       "      <th>owner_Second Owner</th>\n",
       "      <td>0.00</td>\n",
       "    </tr>\n",
       "    <tr>\n",
       "      <th>fuel_CNG</th>\n",
       "      <td>0.00</td>\n",
       "    </tr>\n",
       "    <tr>\n",
       "      <th>fuel_Diesel</th>\n",
       "      <td>0.00</td>\n",
       "    </tr>\n",
       "    <tr>\n",
       "      <th>fuel_LPG</th>\n",
       "      <td>0.00</td>\n",
       "    </tr>\n",
       "    <tr>\n",
       "      <th>fuel_Petrol</th>\n",
       "      <td>0.00</td>\n",
       "    </tr>\n",
       "    <tr>\n",
       "      <th>seller_type_Dealer</th>\n",
       "      <td>0.00</td>\n",
       "    </tr>\n",
       "    <tr>\n",
       "      <th>seller_type_Individual</th>\n",
       "      <td>0.00</td>\n",
       "    </tr>\n",
       "    <tr>\n",
       "      <th>seller_type_Trustmark Dealer</th>\n",
       "      <td>0.00</td>\n",
       "    </tr>\n",
       "    <tr>\n",
       "      <th>transmission_Automatic</th>\n",
       "      <td>0.00</td>\n",
       "    </tr>\n",
       "    <tr>\n",
       "      <th>transmission_Manual</th>\n",
       "      <td>0.00</td>\n",
       "    </tr>\n",
       "    <tr>\n",
       "      <th>owner_First Owner</th>\n",
       "      <td>0.00</td>\n",
       "    </tr>\n",
       "    <tr>\n",
       "      <th>owner_Fourth &amp; Above Owner</th>\n",
       "      <td>0.00</td>\n",
       "    </tr>\n",
       "    <tr>\n",
       "      <th>owner_Test Drive Car</th>\n",
       "      <td>0.00</td>\n",
       "    </tr>\n",
       "    <tr>\n",
       "      <th>companyname_Audi</th>\n",
       "      <td>0.00</td>\n",
       "    </tr>\n",
       "    <tr>\n",
       "      <th>owner_Third Owner</th>\n",
       "      <td>0.00</td>\n",
       "    </tr>\n",
       "    <tr>\n",
       "      <th>seats_2.0</th>\n",
       "      <td>0.00</td>\n",
       "    </tr>\n",
       "    <tr>\n",
       "      <th>seats_4.0</th>\n",
       "      <td>0.00</td>\n",
       "    </tr>\n",
       "    <tr>\n",
       "      <th>seats_5.0</th>\n",
       "      <td>0.00</td>\n",
       "    </tr>\n",
       "    <tr>\n",
       "      <th>seats_6.0</th>\n",
       "      <td>0.00</td>\n",
       "    </tr>\n",
       "    <tr>\n",
       "      <th>seats_7.0</th>\n",
       "      <td>0.00</td>\n",
       "    </tr>\n",
       "    <tr>\n",
       "      <th>seats_8.0</th>\n",
       "      <td>0.00</td>\n",
       "    </tr>\n",
       "    <tr>\n",
       "      <th>seats_9.0</th>\n",
       "      <td>0.00</td>\n",
       "    </tr>\n",
       "    <tr>\n",
       "      <th>seats_10.0</th>\n",
       "      <td>0.00</td>\n",
       "    </tr>\n",
       "    <tr>\n",
       "      <th>seats_14.0</th>\n",
       "      <td>0.00</td>\n",
       "    </tr>\n",
       "    <tr>\n",
       "      <th>companyname_Ambassador</th>\n",
       "      <td>0.00</td>\n",
       "    </tr>\n",
       "    <tr>\n",
       "      <th>companyname_Volvo</th>\n",
       "      <td>0.00</td>\n",
       "    </tr>\n",
       "  </tbody>\n",
       "</table>\n",
       "</div>"
      ],
      "text/plain": [
       "                                 0\n",
       "max_power                     0.72\n",
       "age                           0.20\n",
       "km_driven                     0.02\n",
       "engine                        0.01\n",
       "torq                          0.01\n",
       "mileage                       0.01\n",
       "companyname_Hyundai           0.00\n",
       "companyname_Kia               0.00\n",
       "companyname_Jeep              0.00\n",
       "companyname_Jaguar            0.00\n",
       "companyname_Isuzu             0.00\n",
       "companyname_Force             0.00\n",
       "companyname_Honda             0.00\n",
       "companyname_Ford              0.00\n",
       "companyname_Lexus             0.00\n",
       "companyname_Fiat              0.00\n",
       "companyname_Datsun            0.00\n",
       "companyname_Land              0.00\n",
       "companyname_Maruti            0.00\n",
       "companyname_MG                0.00\n",
       "companyname_Mahindra          0.00\n",
       "companyname_Chevrolet         0.00\n",
       "companyname_Mercedes-Benz     0.00\n",
       "companyname_Mitsubishi        0.00\n",
       "companyname_Nissan            0.00\n",
       "companyname_Opel              0.00\n",
       "companyname_Peugeot           0.00\n",
       "companyname_Renault           0.00\n",
       "companyname_Skoda             0.00\n",
       "companyname_Tata              0.00\n",
       "companyname_Toyota            0.00\n",
       "companyname_Volkswagen        0.00\n",
       "companyname_Daewoo            0.00\n",
       "companyname_Ashok             0.00\n",
       "companyname_BMW               0.00\n",
       "owner_Second Owner            0.00\n",
       "fuel_CNG                      0.00\n",
       "fuel_Diesel                   0.00\n",
       "fuel_LPG                      0.00\n",
       "fuel_Petrol                   0.00\n",
       "seller_type_Dealer            0.00\n",
       "seller_type_Individual        0.00\n",
       "seller_type_Trustmark Dealer  0.00\n",
       "transmission_Automatic        0.00\n",
       "transmission_Manual           0.00\n",
       "owner_First Owner             0.00\n",
       "owner_Fourth & Above Owner    0.00\n",
       "owner_Test Drive Car          0.00\n",
       "companyname_Audi              0.00\n",
       "owner_Third Owner             0.00\n",
       "seats_2.0                     0.00\n",
       "seats_4.0                     0.00\n",
       "seats_5.0                     0.00\n",
       "seats_6.0                     0.00\n",
       "seats_7.0                     0.00\n",
       "seats_8.0                     0.00\n",
       "seats_9.0                     0.00\n",
       "seats_10.0                    0.00\n",
       "seats_14.0                    0.00\n",
       "companyname_Ambassador        0.00\n",
       "companyname_Volvo             0.00"
      ]
     },
     "execution_count": 158,
     "metadata": {},
     "output_type": "execute_result"
    }
   ],
   "source": [
    "pd.DataFrame(np.round(RF.feature_importances_,2),\n",
    "             X.columns).sort_values(by=0,ascending=False)"
   ]
  },
  {
   "cell_type": "code",
   "execution_count": null,
   "id": "28d5603d",
   "metadata": {},
   "outputs": [],
   "source": []
  }
 ],
 "metadata": {
  "kernelspec": {
   "display_name": "Python 3 (ipykernel)",
   "language": "python",
   "name": "python3"
  },
  "language_info": {
   "codemirror_mode": {
    "name": "ipython",
    "version": 3
   },
   "file_extension": ".py",
   "mimetype": "text/x-python",
   "name": "python",
   "nbconvert_exporter": "python",
   "pygments_lexer": "ipython3",
   "version": "3.11.6"
  }
 },
 "nbformat": 4,
 "nbformat_minor": 5
}
